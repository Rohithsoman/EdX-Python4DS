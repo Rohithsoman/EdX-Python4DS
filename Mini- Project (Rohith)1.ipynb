{
 "cells": [
  {
   "cell_type": "code",
   "execution_count": 31,
   "metadata": {
    "collapsed": true
   },
   "outputs": [],
   "source": [
    "#Import the packages and Dataset\n",
    "import pandas as pd\n",
    "import numpy as np\n",
    "import random\n",
    "import matplotlib.pyplot as plt\n",
    "from matplotlib.ticker import FuncFormatter\n",
    "%matplotlib inline "
   ]
  },
  {
   "cell_type": "code",
   "execution_count": 32,
   "metadata": {
    "collapsed": false
   },
   "outputs": [
    {
     "data": {
      "text/plain": [
       "(5656458, 6)"
      ]
     },
     "execution_count": 32,
     "metadata": {},
     "output_type": "execute_result"
    }
   ],
   "source": [
    "data = pd.read_csv('C:\\\\Users\\\\U29737\\\\Documents\\\\EdX\\\\world-development-indicators\\\\Indicators.csv') #Windows\n",
    "#data = pd.read_csv('./world-development-indicators/Indicators.csv') #Linux\n",
    "data.shape"
   ]
  },
  {
   "cell_type": "code",
   "execution_count": 33,
   "metadata": {
    "collapsed": false
   },
   "outputs": [
    {
     "data": {
      "text/html": [
       "<div>\n",
       "<table border=\"1\" class=\"dataframe\">\n",
       "  <thead>\n",
       "    <tr style=\"text-align: right;\">\n",
       "      <th></th>\n",
       "      <th>CountryName</th>\n",
       "      <th>CountryCode</th>\n",
       "      <th>IndicatorName</th>\n",
       "      <th>IndicatorCode</th>\n",
       "      <th>Year</th>\n",
       "      <th>Value</th>\n",
       "    </tr>\n",
       "  </thead>\n",
       "  <tbody>\n",
       "    <tr>\n",
       "      <th>0</th>\n",
       "      <td>Arab World</td>\n",
       "      <td>ARB</td>\n",
       "      <td>Adolescent fertility rate (births per 1,000 wo...</td>\n",
       "      <td>SP.ADO.TFRT</td>\n",
       "      <td>1960</td>\n",
       "      <td>1.335609e+02</td>\n",
       "    </tr>\n",
       "    <tr>\n",
       "      <th>1</th>\n",
       "      <td>Arab World</td>\n",
       "      <td>ARB</td>\n",
       "      <td>Age dependency ratio (% of working-age populat...</td>\n",
       "      <td>SP.POP.DPND</td>\n",
       "      <td>1960</td>\n",
       "      <td>8.779760e+01</td>\n",
       "    </tr>\n",
       "    <tr>\n",
       "      <th>2</th>\n",
       "      <td>Arab World</td>\n",
       "      <td>ARB</td>\n",
       "      <td>Age dependency ratio, old (% of working-age po...</td>\n",
       "      <td>SP.POP.DPND.OL</td>\n",
       "      <td>1960</td>\n",
       "      <td>6.634579e+00</td>\n",
       "    </tr>\n",
       "    <tr>\n",
       "      <th>3</th>\n",
       "      <td>Arab World</td>\n",
       "      <td>ARB</td>\n",
       "      <td>Age dependency ratio, young (% of working-age ...</td>\n",
       "      <td>SP.POP.DPND.YG</td>\n",
       "      <td>1960</td>\n",
       "      <td>8.102333e+01</td>\n",
       "    </tr>\n",
       "    <tr>\n",
       "      <th>4</th>\n",
       "      <td>Arab World</td>\n",
       "      <td>ARB</td>\n",
       "      <td>Arms exports (SIPRI trend indicator values)</td>\n",
       "      <td>MS.MIL.XPRT.KD</td>\n",
       "      <td>1960</td>\n",
       "      <td>3.000000e+06</td>\n",
       "    </tr>\n",
       "  </tbody>\n",
       "</table>\n",
       "</div>"
      ],
      "text/plain": [
       "  CountryName CountryCode                                      IndicatorName  \\\n",
       "0  Arab World         ARB  Adolescent fertility rate (births per 1,000 wo...   \n",
       "1  Arab World         ARB  Age dependency ratio (% of working-age populat...   \n",
       "2  Arab World         ARB  Age dependency ratio, old (% of working-age po...   \n",
       "3  Arab World         ARB  Age dependency ratio, young (% of working-age ...   \n",
       "4  Arab World         ARB        Arms exports (SIPRI trend indicator values)   \n",
       "\n",
       "    IndicatorCode  Year         Value  \n",
       "0     SP.ADO.TFRT  1960  1.335609e+02  \n",
       "1     SP.POP.DPND  1960  8.779760e+01  \n",
       "2  SP.POP.DPND.OL  1960  6.634579e+00  \n",
       "3  SP.POP.DPND.YG  1960  8.102333e+01  \n",
       "4  MS.MIL.XPRT.KD  1960  3.000000e+06  "
      ]
     },
     "execution_count": 33,
     "metadata": {},
     "output_type": "execute_result"
    }
   ],
   "source": [
    "data.head()"
   ]
  },
  {
   "cell_type": "markdown",
   "metadata": {},
   "source": [
    "### Check if there are any null values present in the dataset."
   ]
  },
  {
   "cell_type": "code",
   "execution_count": 34,
   "metadata": {
    "collapsed": false
   },
   "outputs": [
    {
     "data": {
      "text/plain": [
       "CountryName      False\n",
       "CountryCode      False\n",
       "IndicatorName    False\n",
       "IndicatorCode    False\n",
       "Year             False\n",
       "Value            False\n",
       "dtype: bool"
      ]
     },
     "execution_count": 34,
     "metadata": {},
     "output_type": "execute_result"
    }
   ],
   "source": [
    "data.isnull().any()"
   ]
  },
  {
   "cell_type": "code",
   "execution_count": 35,
   "metadata": {
    "collapsed": true
   },
   "outputs": [],
   "source": [
    "# select Out of School Children of Primary School age in India\n",
    "hist_indicator_all = 'SE.PRM.UNER'\n",
    "hist_indicator_male = 'SE.PRM.UNER.MA'\n",
    "hist_indicator_female = 'SE.PRM.UNER.FE'\n",
    "hist_indicator_GDP = 'NY.GDP.PCAP.CD' #'SE.XPD.PRIM.PC.ZS'#  \n",
    "hist_country = 'IND'\n",
    "\n",
    "mask1 = data['IndicatorCode'].str.contains(hist_indicator_all) \n",
    "mask2 = data['IndicatorCode'].str.contains(hist_indicator_male) \n",
    "mask3 = data['IndicatorCode'].str.contains(hist_indicator_female) \n",
    "mask4 = data['CountryCode'].str.contains(hist_country)\n",
    "mask5 = data['IndicatorCode'].str.contains(hist_indicator_GDP) \n",
    "\n",
    "\n",
    "\n",
    "# stage is just those indicators matching the USA for country code and CO2 emissions over time.\n",
    "#stage = data[mask1 & mask2 & mask3 & mask4]\n",
    "stage_all = data[mask1  & mask4]\n",
    "stage_male = data[mask2 & mask4]\n",
    "stage_female = data[mask3 & mask4]\n",
    "stage_gdp = data[mask5 & mask4]\n"
   ]
  },
  {
   "cell_type": "code",
   "execution_count": 36,
   "metadata": {
    "collapsed": true
   },
   "outputs": [],
   "source": [
    "#year_list = ['2000','2001','2002','2003','2007','2008','2009','2010','2011','2012'] #Works with Linux not Windows\n",
    "year_list = [2000,2001,2002,2003,2007,2008,2009,2010,2011,2012]  #works with Windows\n",
    "\n",
    "stage_gdp = stage_gdp[stage_gdp['Year'].isin(year_list)] \n",
    "stage_all = stage_all[stage_all['IndicatorCode'] == 'SE.PRM.UNER'] \n",
    "stage_all = stage_all[stage_all['Year'].isin(year_list)]\n",
    "#stage_female = stage_female[stage_female['Year'].isin(year_list)]  \n",
    "#stage_male = stage_male[stage_male['Year'].isin(year_list)]  "
   ]
  },
  {
   "cell_type": "code",
   "execution_count": 37,
   "metadata": {
    "collapsed": false
   },
   "outputs": [
    {
     "name": "stdout",
     "output_type": "stream",
     "text": [
      "No of Children Dataset\n",
      "10\n",
      "2000  to  2012\n",
      "GDP Dataset\n",
      "10\n",
      "2000  to  2012\n"
     ]
    }
   ],
   "source": [
    "# How many years of data do we have ?\n",
    "years = stage_all['Year'].unique().tolist()\n",
    "print('No of Children Dataset')\n",
    "print(len(years))\n",
    "print(min(years),\" to \",max(years))\n",
    "years = stage_gdp['Year'].unique().tolist()\n",
    "print('GDP Dataset')\n",
    "print(len(years))\n",
    "print(min(years),\" to \",max(years))"
   ]
  },
  {
   "cell_type": "code",
   "execution_count": 38,
   "metadata": {
    "collapsed": false
   },
   "outputs": [
    {
     "data": {
      "text/html": [
       "<div>\n",
       "<table border=\"1\" class=\"dataframe\">\n",
       "  <thead>\n",
       "    <tr style=\"text-align: right;\">\n",
       "      <th></th>\n",
       "      <th>CountryName</th>\n",
       "      <th>CountryCode</th>\n",
       "      <th>IndicatorName</th>\n",
       "      <th>IndicatorCode</th>\n",
       "      <th>Year</th>\n",
       "      <th>Value</th>\n",
       "    </tr>\n",
       "  </thead>\n",
       "  <tbody>\n",
       "    <tr>\n",
       "      <th>3246084</th>\n",
       "      <td>India</td>\n",
       "      <td>IND</td>\n",
       "      <td>Out-of-school children of primary school age, ...</td>\n",
       "      <td>SE.PRM.UNER</td>\n",
       "      <td>2000</td>\n",
       "      <td>16947662.0</td>\n",
       "    </tr>\n",
       "    <tr>\n",
       "      <th>3398394</th>\n",
       "      <td>India</td>\n",
       "      <td>IND</td>\n",
       "      <td>Out-of-school children of primary school age, ...</td>\n",
       "      <td>SE.PRM.UNER</td>\n",
       "      <td>2001</td>\n",
       "      <td>16891852.0</td>\n",
       "    </tr>\n",
       "    <tr>\n",
       "      <th>3551018</th>\n",
       "      <td>India</td>\n",
       "      <td>IND</td>\n",
       "      <td>Out-of-school children of primary school age, ...</td>\n",
       "      <td>SE.PRM.UNER</td>\n",
       "      <td>2002</td>\n",
       "      <td>17031052.0</td>\n",
       "    </tr>\n",
       "    <tr>\n",
       "      <th>3705260</th>\n",
       "      <td>India</td>\n",
       "      <td>IND</td>\n",
       "      <td>Out-of-school children of primary school age, ...</td>\n",
       "      <td>SE.PRM.UNER</td>\n",
       "      <td>2003</td>\n",
       "      <td>10960947.0</td>\n",
       "    </tr>\n",
       "    <tr>\n",
       "      <th>4387559</th>\n",
       "      <td>India</td>\n",
       "      <td>IND</td>\n",
       "      <td>Out-of-school children of primary school age, ...</td>\n",
       "      <td>SE.PRM.UNER</td>\n",
       "      <td>2007</td>\n",
       "      <td>1091960.0</td>\n",
       "    </tr>\n",
       "    <tr>\n",
       "      <th>4567875</th>\n",
       "      <td>India</td>\n",
       "      <td>IND</td>\n",
       "      <td>Out-of-school children of primary school age, ...</td>\n",
       "      <td>SE.PRM.UNER</td>\n",
       "      <td>2008</td>\n",
       "      <td>508133.0</td>\n",
       "    </tr>\n",
       "    <tr>\n",
       "      <th>4747002</th>\n",
       "      <td>India</td>\n",
       "      <td>IND</td>\n",
       "      <td>Out-of-school children of primary school age, ...</td>\n",
       "      <td>SE.PRM.UNER</td>\n",
       "      <td>2009</td>\n",
       "      <td>1218431.0</td>\n",
       "    </tr>\n",
       "    <tr>\n",
       "      <th>4929849</th>\n",
       "      <td>India</td>\n",
       "      <td>IND</td>\n",
       "      <td>Out-of-school children of primary school age, ...</td>\n",
       "      <td>SE.PRM.UNER</td>\n",
       "      <td>2010</td>\n",
       "      <td>875082.0</td>\n",
       "    </tr>\n",
       "    <tr>\n",
       "      <th>5111617</th>\n",
       "      <td>India</td>\n",
       "      <td>IND</td>\n",
       "      <td>Out-of-school children of primary school age, ...</td>\n",
       "      <td>SE.PRM.UNER</td>\n",
       "      <td>2011</td>\n",
       "      <td>1387374.0</td>\n",
       "    </tr>\n",
       "    <tr>\n",
       "      <th>5287305</th>\n",
       "      <td>India</td>\n",
       "      <td>IND</td>\n",
       "      <td>Out-of-school children of primary school age, ...</td>\n",
       "      <td>SE.PRM.UNER</td>\n",
       "      <td>2012</td>\n",
       "      <td>1723585.0</td>\n",
       "    </tr>\n",
       "  </tbody>\n",
       "</table>\n",
       "</div>"
      ],
      "text/plain": [
       "        CountryName CountryCode  \\\n",
       "3246084       India         IND   \n",
       "3398394       India         IND   \n",
       "3551018       India         IND   \n",
       "3705260       India         IND   \n",
       "4387559       India         IND   \n",
       "4567875       India         IND   \n",
       "4747002       India         IND   \n",
       "4929849       India         IND   \n",
       "5111617       India         IND   \n",
       "5287305       India         IND   \n",
       "\n",
       "                                             IndicatorName IndicatorCode  \\\n",
       "3246084  Out-of-school children of primary school age, ...   SE.PRM.UNER   \n",
       "3398394  Out-of-school children of primary school age, ...   SE.PRM.UNER   \n",
       "3551018  Out-of-school children of primary school age, ...   SE.PRM.UNER   \n",
       "3705260  Out-of-school children of primary school age, ...   SE.PRM.UNER   \n",
       "4387559  Out-of-school children of primary school age, ...   SE.PRM.UNER   \n",
       "4567875  Out-of-school children of primary school age, ...   SE.PRM.UNER   \n",
       "4747002  Out-of-school children of primary school age, ...   SE.PRM.UNER   \n",
       "4929849  Out-of-school children of primary school age, ...   SE.PRM.UNER   \n",
       "5111617  Out-of-school children of primary school age, ...   SE.PRM.UNER   \n",
       "5287305  Out-of-school children of primary school age, ...   SE.PRM.UNER   \n",
       "\n",
       "         Year       Value  \n",
       "3246084  2000  16947662.0  \n",
       "3398394  2001  16891852.0  \n",
       "3551018  2002  17031052.0  \n",
       "3705260  2003  10960947.0  \n",
       "4387559  2007   1091960.0  \n",
       "4567875  2008    508133.0  \n",
       "4747002  2009   1218431.0  \n",
       "4929849  2010    875082.0  \n",
       "5111617  2011   1387374.0  \n",
       "5287305  2012   1723585.0  "
      ]
     },
     "execution_count": 38,
     "metadata": {},
     "output_type": "execute_result"
    }
   ],
   "source": [
    "stage_all"
   ]
  },
  {
   "cell_type": "code",
   "execution_count": 39,
   "metadata": {
    "collapsed": true
   },
   "outputs": [],
   "source": [
    "# get the years\n",
    "years_male = stage_male['Year'].values \n",
    "Out_of_school_children_male = stage_male['Value'].values\n",
    "\n",
    "years_female = stage_female['Year'].values \n",
    "Out_of_school_children_female = stage_female['Value'].values\n",
    "\n",
    "years_male = stage_all['Year'].values \n",
    "Out_of_school_children_all = stage_all['Value'].values\n",
    "\n",
    "years_gdp = stage_gdp['Year'].values \n",
    "gdp = stage_gdp['Value'].values\n"
   ]
  },
  {
   "cell_type": "code",
   "execution_count": 40,
   "metadata": {
    "collapsed": false
   },
   "outputs": [
    {
     "data": {
      "image/png": "[encoded data removed]",
      "text/plain": [
       "<matplotlib.figure.Figure at 0x1cba8e3a048>"
      ]
     },
     "metadata": {},
     "output_type": "display_data"
    }
   ],
   "source": [
    "# Line plot\n",
    "plt.plot(stage_all['Year'].values, stage_all['Value'].values)\n",
    "\n",
    "# Label the axes\n",
    "plt.xlabel('Year')\n",
    "plt.ylabel('No. of Children(In Millions)')\n",
    "\n",
    "#label the figure\n",
    "plt.title('Out-of-school children of primary school age',fontsize=12)\n",
    "plt.show()"
   ]
  },
  {
   "cell_type": "code",
   "execution_count": 41,
   "metadata": {
    "collapsed": false
   },
   "outputs": [
    {
     "data": {
      "image/png": "[encoded data removed]",
      "text/plain": [
       "<matplotlib.figure.Figure at 0x1cb80237b38>"
      ]
     },
     "metadata": {},
     "output_type": "display_data"
    }
   ],
   "source": [
    "# Line plot\n",
    "plt.plot(stage_male['Year'].values, stage_male['Value'].values)\n",
    "\n",
    "# Label the axes\n",
    "plt.xlabel('Year')\n",
    "plt.ylabel('No. of Boys(In Millions)')\n",
    "\n",
    "#label the figure\n",
    "plt.title('Out-of-school Boys of primary school age',fontsize=12)\n",
    "plt.show()"
   ]
  },
  {
   "cell_type": "code",
   "execution_count": 42,
   "metadata": {
    "collapsed": false
   },
   "outputs": [
    {
     "data": {
      "image/png": "[encoded data removed]",
      "text/plain": [
       "<matplotlib.figure.Figure at 0x1cb8048beb8>"
      ]
     },
     "metadata": {},
     "output_type": "display_data"
    }
   ],
   "source": [
    "# Line plot\n",
    "plt.plot(stage_female['Year'].values, stage_female['Value'].values)\n",
    "\n",
    "# Label the axes\n",
    "plt.xlabel('Year')\n",
    "plt.ylabel('No. of Girls(In Millions)')\n",
    "\n",
    "#label the figure\n",
    "plt.title('Out-of-school Girls of primary school age',fontsize=12)\n",
    "plt.show()"
   ]
  },
  {
   "cell_type": "code",
   "execution_count": 43,
   "metadata": {
    "collapsed": false
   },
   "outputs": [
    {
     "data": {
      "image/png": "[encoded data removed]",
      "text/plain": [
       "<matplotlib.figure.Figure at 0x1cb80480c88>"
      ]
     },
     "metadata": {},
     "output_type": "display_data"
    }
   ],
   "source": [
    "# Line plot\n",
    "plt.plot(stage_gdp['Year'].values, stage_gdp['Value'].values)\n",
    "\n",
    "# Label the axes\n",
    "plt.xlabel('Year')\n",
    "plt.ylabel('GDP per capita (current USdollar)')\n",
    "\n",
    "#label the figure\n",
    "plt.title('GDP per capita',fontsize=12)\n",
    "plt.show()"
   ]
  },
  {
   "cell_type": "code",
   "execution_count": 44,
   "metadata": {
    "collapsed": false
   },
   "outputs": [
    {
     "data": {
      "image/png": "[encoded data removed]",
      "text/plain": [
       "<matplotlib.figure.Figure at 0x1cb80556a20>"
      ]
     },
     "metadata": {},
     "output_type": "display_data"
    }
   ],
   "source": [
    "fig,axis=plt.subplots()\n",
    "axis.yaxis.grid(True)\n",
    "axis.set_title('Arms Import vs. GDP \\(per capita\\)',fontsize=10)\n",
    "axis.set_xlabel(stage_gdp['IndicatorName'].iloc[0],fontsize=10)\n",
    "axis.set_ylabel(stage_all['IndicatorName'].iloc[0],fontsize=10)\n",
    "X=stage_gdp['Value']\n",
    "Y=stage_all['Value']\n",
    "axis.scatter(X, Y)\n",
    "plt.show()"
   ]
  },
  {
   "cell_type": "code",
   "execution_count": 45,
   "metadata": {
    "collapsed": false
   },
   "outputs": [
    {
     "data": {
      "text/plain": [
       "array([[ 1.        , -0.90842856],\n",
       "       [-0.90842856,  1.        ]])"
      ]
     },
     "execution_count": 45,
     "metadata": {},
     "output_type": "execute_result"
    }
   ],
   "source": [
    "np.corrcoef(stage_gdp['Value'],stage_all['Value'])\n"
   ]
  }
 ],
 "metadata": {
  "kernelspec": {
   "display_name": "Python [Root]",
   "language": "python",
   "name": "Python [Root]"
  },
  "language_info": {
   "codemirror_mode": {
    "name": "ipython",
    "version": 3
   },
   "file_extension": ".py",
   "mimetype": "text/x-python",
   "name": "python",
   "nbconvert_exporter": "python",
   "pygments_lexer": "ipython3",
   "version": "3.5.1"
  }
 },
 "nbformat": 4,
 "nbformat_minor": 1
}
