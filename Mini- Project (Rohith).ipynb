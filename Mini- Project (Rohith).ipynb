{
 "cells": [
  {
   "cell_type": "code",
   "execution_count": null,
   "metadata": {},
   "outputs": [],
   "source": []
  },
  {
   "cell_type": "markdown",
   "metadata": {},
   "source": [
    "## Import the packages and Dataset"
   ]
  },
  {
   "cell_type": "code",
   "execution_count": 137,
   "metadata": {},
   "outputs": [],
   "source": [
    "import pandas as pd\n",
    "import numpy as np\n",
    "import random\n",
    "import matplotlib.pyplot as plt\n",
    "from matplotlib.ticker import FuncFormatter\n",
    "%matplotlib inline "
   ]
  },
  {
   "cell_type": "code",
   "execution_count": 138,
   "metadata": {},
   "outputs": [
    {
     "data": {
      "text/plain": [
       "(5656458, 6)"
      ]
     },
     "execution_count": 138,
     "metadata": {},
     "output_type": "execute_result"
    }
   ],
   "source": [
    "#data = pd.read_csv('C:\\\\Users\\\\U29737\\\\Documents\\\\EdX\\\\world-development-indicators\\\\Indicators.csv')\n",
    "data = pd.read_csv('./world-development-indicators/Indicators.csv')\n",
    "data.shape"
   ]
  },
  {
   "cell_type": "code",
   "execution_count": 139,
   "metadata": {},
   "outputs": [
    {
     "data": {
      "text/html": [
       "<div>\n",
       "<style scoped>\n",
       "    .dataframe tbody tr th:only-of-type {\n",
       "        vertical-align: middle;\n",
       "    }\n",
       "\n",
       "    .dataframe tbody tr th {\n",
       "        vertical-align: top;\n",
       "    }\n",
       "\n",
       "    .dataframe thead th {\n",
       "        text-align: right;\n",
       "    }\n",
       "</style>\n",
       "<table border=\"1\" class=\"dataframe\">\n",
       "  <thead>\n",
       "    <tr style=\"text-align: right;\">\n",
       "      <th></th>\n",
       "      <th>CountryName</th>\n",
       "      <th>CountryCode</th>\n",
       "      <th>IndicatorName</th>\n",
       "      <th>IndicatorCode</th>\n",
       "      <th>Year</th>\n",
       "      <th>Value</th>\n",
       "    </tr>\n",
       "  </thead>\n",
       "  <tbody>\n",
       "    <tr>\n",
       "      <th>0</th>\n",
       "      <td>Arab World</td>\n",
       "      <td>ARB</td>\n",
       "      <td>Adolescent fertility rate (births per 1,000 wo...</td>\n",
       "      <td>SP.ADO.TFRT</td>\n",
       "      <td>1960</td>\n",
       "      <td>1.335609e+02</td>\n",
       "    </tr>\n",
       "    <tr>\n",
       "      <th>1</th>\n",
       "      <td>Arab World</td>\n",
       "      <td>ARB</td>\n",
       "      <td>Age dependency ratio (% of working-age populat...</td>\n",
       "      <td>SP.POP.DPND</td>\n",
       "      <td>1960</td>\n",
       "      <td>8.779760e+01</td>\n",
       "    </tr>\n",
       "    <tr>\n",
       "      <th>2</th>\n",
       "      <td>Arab World</td>\n",
       "      <td>ARB</td>\n",
       "      <td>Age dependency ratio, old (% of working-age po...</td>\n",
       "      <td>SP.POP.DPND.OL</td>\n",
       "      <td>1960</td>\n",
       "      <td>6.634579e+00</td>\n",
       "    </tr>\n",
       "    <tr>\n",
       "      <th>3</th>\n",
       "      <td>Arab World</td>\n",
       "      <td>ARB</td>\n",
       "      <td>Age dependency ratio, young (% of working-age ...</td>\n",
       "      <td>SP.POP.DPND.YG</td>\n",
       "      <td>1960</td>\n",
       "      <td>8.102333e+01</td>\n",
       "    </tr>\n",
       "    <tr>\n",
       "      <th>4</th>\n",
       "      <td>Arab World</td>\n",
       "      <td>ARB</td>\n",
       "      <td>Arms exports (SIPRI trend indicator values)</td>\n",
       "      <td>MS.MIL.XPRT.KD</td>\n",
       "      <td>1960</td>\n",
       "      <td>3.000000e+06</td>\n",
       "    </tr>\n",
       "  </tbody>\n",
       "</table>\n",
       "</div>"
      ],
      "text/plain": [
       "  CountryName CountryCode                                      IndicatorName  \\\n",
       "0  Arab World         ARB  Adolescent fertility rate (births per 1,000 wo...   \n",
       "1  Arab World         ARB  Age dependency ratio (% of working-age populat...   \n",
       "2  Arab World         ARB  Age dependency ratio, old (% of working-age po...   \n",
       "3  Arab World         ARB  Age dependency ratio, young (% of working-age ...   \n",
       "4  Arab World         ARB        Arms exports (SIPRI trend indicator values)   \n",
       "\n",
       "    IndicatorCode  Year         Value  \n",
       "0     SP.ADO.TFRT  1960  1.335609e+02  \n",
       "1     SP.POP.DPND  1960  8.779760e+01  \n",
       "2  SP.POP.DPND.OL  1960  6.634579e+00  \n",
       "3  SP.POP.DPND.YG  1960  8.102333e+01  \n",
       "4  MS.MIL.XPRT.KD  1960  3.000000e+06  "
      ]
     },
     "execution_count": 139,
     "metadata": {},
     "output_type": "execute_result"
    }
   ],
   "source": [
    "data.head()"
   ]
  },
  {
   "cell_type": "markdown",
   "metadata": {},
   "source": [
    "### Check if there are any null values present in the dataset."
   ]
  },
  {
   "cell_type": "code",
   "execution_count": 140,
   "metadata": {},
   "outputs": [
    {
     "data": {
      "text/plain": [
       "CountryName      False\n",
       "CountryCode      False\n",
       "IndicatorName    False\n",
       "IndicatorCode    False\n",
       "Year             False\n",
       "Value            False\n",
       "dtype: bool"
      ]
     },
     "execution_count": 140,
     "metadata": {},
     "output_type": "execute_result"
    }
   ],
   "source": [
    "data.isnull().any()"
   ]
  },
  {
   "cell_type": "code",
   "execution_count": 159,
   "metadata": {},
   "outputs": [],
   "source": [
    "# select Out of School Children of Primary School age in India\n",
    "hist_indicator_all = 'SE.PRM.UNER'\n",
    "hist_indicator_male = 'SE.PRM.UNER.MA'\n",
    "hist_indicator_female = 'SE.PRM.UNER.FE'\n",
    "hist_indicator_GDP = 'NY.GDP.PCAP.CD' #'SE.XPD.PRIM.PC.ZS'#  \n",
    "hist_country = 'IND'\n",
    "\n",
    "mask1 = data['IndicatorCode'].str.contains(hist_indicator_all) \n",
    "mask2 = data['IndicatorCode'].str.contains(hist_indicator_male) \n",
    "mask3 = data['IndicatorCode'].str.contains(hist_indicator_female) \n",
    "mask4 = data['CountryCode'].str.contains(hist_country)\n",
    "mask5 = data['IndicatorCode'].str.contains(hist_indicator_GDP) \n",
    "\n",
    "\n",
    "\n",
    "# stage is just those indicators matching the USA for country code and CO2 emissions over time.\n",
    "#stage = data[mask1 & mask2 & mask3 & mask4]\n",
    "stage_all = data[mask1  & mask4]\n",
    "stage_male = data[mask2 & mask4]\n",
    "stage_female = data[mask3 & mask4]\n",
    "stage_gdp = data[mask5 & mask4]\n"
   ]
  },
  {
   "cell_type": "code",
   "execution_count": 160,
   "metadata": {},
   "outputs": [],
   "source": [
    "year_list = ['2000','2001','2002','2003','2007','2008','2009','2010','2011','2012']\n",
    "stage_gdp = stage_gdp[stage_gdp['Year'].isin(year_list)] \n",
    "stage_all = stage_all[stage_all['IndicatorCode'] == 'SE.PRM.UNER'] \n",
    "stage_all = stage_all[stage_all['Year'].isin(year_list)]\n",
    "#stage_female = stage_female[stage_female['Year'].isin(year_list)]  \n",
    "#stage_male = stage_male[stage_male['Year'].isin(year_list)]  "
   ]
  },
  {
   "cell_type": "code",
   "execution_count": 143,
   "metadata": {},
   "outputs": [
    {
     "name": "stdout",
     "output_type": "stream",
     "text": [
      "No of Children Dataset\n",
      "7\n",
      "2000  to  2012\n",
      "GDP Dataset\n",
      "7\n",
      "2000  to  2012\n"
     ]
    }
   ],
   "source": [
    "# How many years of data do we have ?\n",
    "years = stage_all['Year'].unique().tolist()\n",
    "print('No of Children Dataset')\n",
    "print(len(years))\n",
    "print(min(years),\" to \",max(years))\n",
    "years = stage_gdp['Year'].unique().tolist()\n",
    "print('GDP Dataset')\n",
    "print(len(years))\n",
    "print(min(years),\" to \",max(years))"
   ]
  },
  {
   "cell_type": "code",
   "execution_count": 162,
   "metadata": {},
   "outputs": [
    {
     "data": {
      "text/html": [
       "<div>\n",
       "<style scoped>\n",
       "    .dataframe tbody tr th:only-of-type {\n",
       "        vertical-align: middle;\n",
       "    }\n",
       "\n",
       "    .dataframe tbody tr th {\n",
       "        vertical-align: top;\n",
       "    }\n",
       "\n",
       "    .dataframe thead th {\n",
       "        text-align: right;\n",
       "    }\n",
       "</style>\n",
       "<table border=\"1\" class=\"dataframe\">\n",
       "  <thead>\n",
       "    <tr style=\"text-align: right;\">\n",
       "      <th></th>\n",
       "      <th>CountryName</th>\n",
       "      <th>CountryCode</th>\n",
       "      <th>IndicatorName</th>\n",
       "      <th>IndicatorCode</th>\n",
       "      <th>Year</th>\n",
       "      <th>Value</th>\n",
       "    </tr>\n",
       "  </thead>\n",
       "  <tbody>\n",
       "    <tr>\n",
       "      <th>3245709</th>\n",
       "      <td>India</td>\n",
       "      <td>IND</td>\n",
       "      <td>GDP per capita (current US$)</td>\n",
       "      <td>NY.GDP.PCAP.CD</td>\n",
       "      <td>2000</td>\n",
       "      <td>452.413585</td>\n",
       "    </tr>\n",
       "    <tr>\n",
       "      <th>3398044</th>\n",
       "      <td>India</td>\n",
       "      <td>IND</td>\n",
       "      <td>GDP per capita (current US$)</td>\n",
       "      <td>NY.GDP.PCAP.CD</td>\n",
       "      <td>2001</td>\n",
       "      <td>460.826200</td>\n",
       "    </tr>\n",
       "    <tr>\n",
       "      <th>3550671</th>\n",
       "      <td>India</td>\n",
       "      <td>IND</td>\n",
       "      <td>GDP per capita (current US$)</td>\n",
       "      <td>NY.GDP.PCAP.CD</td>\n",
       "      <td>2002</td>\n",
       "      <td>480.621442</td>\n",
       "    </tr>\n",
       "    <tr>\n",
       "      <th>3704907</th>\n",
       "      <td>India</td>\n",
       "      <td>IND</td>\n",
       "      <td>GDP per capita (current US$)</td>\n",
       "      <td>NY.GDP.PCAP.CD</td>\n",
       "      <td>2003</td>\n",
       "      <td>557.897366</td>\n",
       "    </tr>\n",
       "    <tr>\n",
       "      <th>4387178</th>\n",
       "      <td>India</td>\n",
       "      <td>IND</td>\n",
       "      <td>GDP per capita (current US$)</td>\n",
       "      <td>NY.GDP.PCAP.CD</td>\n",
       "      <td>2007</td>\n",
       "      <td>1050.024801</td>\n",
       "    </tr>\n",
       "    <tr>\n",
       "      <th>4567493</th>\n",
       "      <td>India</td>\n",
       "      <td>IND</td>\n",
       "      <td>GDP per capita (current US$)</td>\n",
       "      <td>NY.GDP.PCAP.CD</td>\n",
       "      <td>2008</td>\n",
       "      <td>1022.577592</td>\n",
       "    </tr>\n",
       "    <tr>\n",
       "      <th>4746621</th>\n",
       "      <td>India</td>\n",
       "      <td>IND</td>\n",
       "      <td>GDP per capita (current US$)</td>\n",
       "      <td>NY.GDP.PCAP.CD</td>\n",
       "      <td>2009</td>\n",
       "      <td>1124.519446</td>\n",
       "    </tr>\n",
       "    <tr>\n",
       "      <th>4929437</th>\n",
       "      <td>India</td>\n",
       "      <td>IND</td>\n",
       "      <td>GDP per capita (current US$)</td>\n",
       "      <td>NY.GDP.PCAP.CD</td>\n",
       "      <td>2010</td>\n",
       "      <td>1387.880084</td>\n",
       "    </tr>\n",
       "    <tr>\n",
       "      <th>5111237</th>\n",
       "      <td>India</td>\n",
       "      <td>IND</td>\n",
       "      <td>GDP per capita (current US$)</td>\n",
       "      <td>NY.GDP.PCAP.CD</td>\n",
       "      <td>2011</td>\n",
       "      <td>1471.658439</td>\n",
       "    </tr>\n",
       "    <tr>\n",
       "      <th>5286923</th>\n",
       "      <td>India</td>\n",
       "      <td>IND</td>\n",
       "      <td>GDP per capita (current US$)</td>\n",
       "      <td>NY.GDP.PCAP.CD</td>\n",
       "      <td>2012</td>\n",
       "      <td>1449.664875</td>\n",
       "    </tr>\n",
       "  </tbody>\n",
       "</table>\n",
       "</div>"
      ],
      "text/plain": [
       "        CountryName CountryCode                 IndicatorName   IndicatorCode  \\\n",
       "3245709       India         IND  GDP per capita (current US$)  NY.GDP.PCAP.CD   \n",
       "3398044       India         IND  GDP per capita (current US$)  NY.GDP.PCAP.CD   \n",
       "3550671       India         IND  GDP per capita (current US$)  NY.GDP.PCAP.CD   \n",
       "3704907       India         IND  GDP per capita (current US$)  NY.GDP.PCAP.CD   \n",
       "4387178       India         IND  GDP per capita (current US$)  NY.GDP.PCAP.CD   \n",
       "4567493       India         IND  GDP per capita (current US$)  NY.GDP.PCAP.CD   \n",
       "4746621       India         IND  GDP per capita (current US$)  NY.GDP.PCAP.CD   \n",
       "4929437       India         IND  GDP per capita (current US$)  NY.GDP.PCAP.CD   \n",
       "5111237       India         IND  GDP per capita (current US$)  NY.GDP.PCAP.CD   \n",
       "5286923       India         IND  GDP per capita (current US$)  NY.GDP.PCAP.CD   \n",
       "\n",
       "         Year        Value  \n",
       "3245709  2000   452.413585  \n",
       "3398044  2001   460.826200  \n",
       "3550671  2002   480.621442  \n",
       "3704907  2003   557.897366  \n",
       "4387178  2007  1050.024801  \n",
       "4567493  2008  1022.577592  \n",
       "4746621  2009  1124.519446  \n",
       "4929437  2010  1387.880084  \n",
       "5111237  2011  1471.658439  \n",
       "5286923  2012  1449.664875  "
      ]
     },
     "execution_count": 162,
     "metadata": {},
     "output_type": "execute_result"
    }
   ],
   "source": [
    "stage_gdp\n"
   ]
  },
  {
   "cell_type": "code",
   "execution_count": 163,
   "metadata": {},
   "outputs": [],
   "source": [
    "# get the years\n",
    "years_male = stage_male['Year'].values \n",
    "Out_of_school_children_male = stage_male['Value'].values\n",
    "\n",
    "years_female = stage_female['Year'].values \n",
    "Out_of_school_children_female = stage_female['Value'].values\n",
    "\n",
    "years_male = stage_all['Year'].values \n",
    "Out_of_school_children_all = stage_all['Value'].values\n",
    "\n",
    "years_gdp = stage_gdp['Year'].values \n",
    "gdp = stage_gdp['Value'].values\n"
   ]
  },
  {
   "cell_type": "code",
   "execution_count": 164,
   "metadata": {},
   "outputs": [
    {
     "data": {
      "image/png": "[encoded data removed]",
      "text/plain": [
       "<Figure size 432x288 with 1 Axes>"
      ]
     },
     "metadata": {
      "needs_background": "light"
     },
     "output_type": "display_data"
    }
   ],
   "source": [
    "# Line plot\n",
    "plt.plot(stage_all['Year'].values, stage_all['Value'].values)\n",
    "\n",
    "# Label the axes\n",
    "plt.xlabel('Year')\n",
    "plt.ylabel('No. of Children(In Millions)')\n",
    "\n",
    "#label the figure\n",
    "plt.title('Out-of-school children of primary school age',fontsize=12)\n",
    "plt.show()"
   ]
  },
  {
   "cell_type": "code",
   "execution_count": 165,
   "metadata": {},
   "outputs": [
    {
     "data": {
      "image/png": "[encoded data removed]",
      "text/plain": [
       "<Figure size 432x288 with 1 Axes>"
      ]
     },
     "metadata": {
      "needs_background": "light"
     },
     "output_type": "display_data"
    }
   ],
   "source": [
    "# Line plot\n",
    "plt.plot(stage_male['Year'].values, stage_male['Value'].values)\n",
    "\n",
    "# Label the axes\n",
    "plt.xlabel('Year')\n",
    "plt.ylabel('No. of Boys(In Millions)')\n",
    "\n",
    "#label the figure\n",
    "plt.title('Out-of-school Boys of primary school age',fontsize=12)\n",
    "plt.show()"
   ]
  },
  {
   "cell_type": "code",
   "execution_count": 166,
   "metadata": {},
   "outputs": [
    {
     "data": {
      "image/png": "[encoded data removed]",
      "text/plain": [
       "<Figure size 432x288 with 1 Axes>"
      ]
     },
     "metadata": {
      "needs_background": "light"
     },
     "output_type": "display_data"
    }
   ],
   "source": [
    "# Line plot\n",
    "plt.plot(stage_female['Year'].values, stage_female['Value'].values)\n",
    "\n",
    "# Label the axes\n",
    "plt.xlabel('Year')\n",
    "plt.ylabel('No. of Girls(In Millions)')\n",
    "\n",
    "#label the figure\n",
    "plt.title('Out-of-school Girls of primary school age',fontsize=12)\n",
    "plt.show()"
   ]
  },
  {
   "cell_type": "code",
   "execution_count": 167,
   "metadata": {},
   "outputs": [
    {
     "data": {
      "image/png": "[encoded data removed]",
      "text/plain": [
       "<Figure size 432x288 with 1 Axes>"
      ]
     },
     "metadata": {
      "needs_background": "light"
     },
     "output_type": "display_data"
    }
   ],
   "source": [
    "# Line plot\n",
    "plt.plot(stage_gdp['Year'].values, stage_gdp['Value'].values)\n",
    "\n",
    "# Label the axes\n",
    "plt.xlabel('Year')\n",
    "plt.ylabel('GDP per capita (current USdollar)')\n",
    "\n",
    "#label the figure\n",
    "plt.title('GDP per capita',fontsize=12)\n",
    "plt.show()"
   ]
  },
  {
   "cell_type": "code",
   "execution_count": 169,
   "metadata": {},
   "outputs": [
    {
     "data": {
      "image/png": "[encoded data removed]",
      "text/plain": [
       "<Figure size 432x288 with 1 Axes>"
      ]
     },
     "metadata": {
      "needs_background": "light"
     },
     "output_type": "display_data"
    }
   ],
   "source": [
    "fig,axis=plt.subplots()\n",
    "axis.yaxis.grid(True)\n",
    "axis.set_title('Arms Import vs. GDP \\(per capita\\)',fontsize=10)\n",
    "axis.set_xlabel(stage_gdp['IndicatorName'].iloc[0],fontsize=10)\n",
    "axis.set_ylabel(stage_all['IndicatorName'].iloc[0],fontsize=10)\n",
    "X=stage_gdp['Value']\n",
    "Y=stage_all['Value']\n",
    "axis.scatter(X, Y)\n",
    "plt.show()"
   ]
  },
  {
   "cell_type": "code",
   "execution_count": 170,
   "metadata": {},
   "outputs": [
    {
     "data": {
      "text/plain": [
       "array([[ 1.        , -0.90842856],\n",
       "       [-0.90842856,  1.        ]])"
      ]
     },
     "execution_count": 170,
     "metadata": {},
     "output_type": "execute_result"
    }
   ],
   "source": [
    "np.corrcoef(stage_gdp['Value'],stage_all['Value'])\n"
   ]
  }
 ],
 "metadata": {
  "kernelspec": {
   "display_name": "Python 3",
   "language": "python",
   "name": "python3"
  },
  "language_info": {
   "codemirror_mode": {
    "name": "ipython",
    "version": 3
   },
   "file_extension": ".py",
   "mimetype": "text/x-python",
   "name": "python",
   "nbconvert_exporter": "python",
   "pygments_lexer": "ipython3",
   "version": "3.6.5"
  }
 },
 "nbformat": 4,
 "nbformat_minor": 1
}
