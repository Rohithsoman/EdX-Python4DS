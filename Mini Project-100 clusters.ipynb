{
 "cells": [
  {
   "cell_type": "markdown",
   "metadata": {},
   "source": [
    "# Overview"
   ]
  },
  {
   "cell_type": "markdown",
   "metadata": {},
   "source": [
    "Goal: Can we predict a user's rating for a movie better than by giving the average rating?\n",
    "\n",
    "Method:\n",
    "1. Find the most-rated movie (to maximize the data)\n",
    "2. Isolate the list of users who have rated this movie\n",
    "3. Split this user list into a training/test group\n",
    "4. Cluster users based on their ratings for other movies and find the average rating for the most-rated movie for each cluster\n",
    "5. Determine where the test users fit in these clusters, predict that their rating for the movie will be the average of their cluster\n",
    "6. Compare these predicted ratings vs. their true rating to the default prediction vs. true rating (the default prediction is that all users would rate it as the total average rating for that movie)\n",
    "\n",
    "https://www.kaggle.com/grouplens/movielens-20m-dataset\n"
   ]
  },
  {
   "cell_type": "code",
   "execution_count": 137,
   "metadata": {
    "collapsed": true
   },
   "outputs": [],
   "source": [
    "import pandas as pd\n",
    "import numpy as np\n",
    "from sklearn.cluster import KMeans\n",
    "%matplotlib inline\n",
    "import matplotlib.pyplot as plt\n",
    "\n",
    "movies = pd.read_csv('./movielens/movies.csv', sep=',')\n",
    "ratings = pd.read_csv('./movielens/ratings.csv', sep=',')\n",
    "del ratings[\"timestamp\"]"
   ]
  },
  {
   "cell_type": "code",
   "execution_count": 138,
   "metadata": {
    "collapsed": false
   },
   "outputs": [
    {
     "data": {
      "text/html": [
       "<div>\n",
       "<style>\n",
       "    .dataframe thead tr:only-child th {\n",
       "        text-align: right;\n",
       "    }\n",
       "\n",
       "    .dataframe thead th {\n",
       "        text-align: left;\n",
       "    }\n",
       "\n",
       "    .dataframe tbody tr th {\n",
       "        vertical-align: top;\n",
       "    }\n",
       "</style>\n",
       "<table border=\"1\" class=\"dataframe\">\n",
       "  <thead>\n",
       "    <tr style=\"text-align: right;\">\n",
       "      <th></th>\n",
       "      <th>movieId</th>\n",
       "      <th>title</th>\n",
       "      <th>genres</th>\n",
       "    </tr>\n",
       "  </thead>\n",
       "  <tbody>\n",
       "    <tr>\n",
       "      <th>0</th>\n",
       "      <td>1</td>\n",
       "      <td>Toy Story (1995)</td>\n",
       "      <td>Adventure|Animation|Children|Comedy|Fantasy</td>\n",
       "    </tr>\n",
       "    <tr>\n",
       "      <th>1</th>\n",
       "      <td>2</td>\n",
       "      <td>Jumanji (1995)</td>\n",
       "      <td>Adventure|Children|Fantasy</td>\n",
       "    </tr>\n",
       "    <tr>\n",
       "      <th>2</th>\n",
       "      <td>3</td>\n",
       "      <td>Grumpier Old Men (1995)</td>\n",
       "      <td>Comedy|Romance</td>\n",
       "    </tr>\n",
       "    <tr>\n",
       "      <th>3</th>\n",
       "      <td>4</td>\n",
       "      <td>Waiting to Exhale (1995)</td>\n",
       "      <td>Comedy|Drama|Romance</td>\n",
       "    </tr>\n",
       "    <tr>\n",
       "      <th>4</th>\n",
       "      <td>5</td>\n",
       "      <td>Father of the Bride Part II (1995)</td>\n",
       "      <td>Comedy</td>\n",
       "    </tr>\n",
       "  </tbody>\n",
       "</table>\n",
       "</div>"
      ],
      "text/plain": [
       "   movieId                               title  \\\n",
       "0        1                    Toy Story (1995)   \n",
       "1        2                      Jumanji (1995)   \n",
       "2        3             Grumpier Old Men (1995)   \n",
       "3        4            Waiting to Exhale (1995)   \n",
       "4        5  Father of the Bride Part II (1995)   \n",
       "\n",
       "                                        genres  \n",
       "0  Adventure|Animation|Children|Comedy|Fantasy  \n",
       "1                   Adventure|Children|Fantasy  \n",
       "2                               Comedy|Romance  \n",
       "3                         Comedy|Drama|Romance  \n",
       "4                                       Comedy  "
      ]
     },
     "execution_count": 138,
     "metadata": {},
     "output_type": "execute_result"
    }
   ],
   "source": [
    "movies.head()"
   ]
  },
  {
   "cell_type": "code",
   "execution_count": 139,
   "metadata": {
    "collapsed": false
   },
   "outputs": [
    {
     "data": {
      "text/html": [
       "<div>\n",
       "<style>\n",
       "    .dataframe thead tr:only-child th {\n",
       "        text-align: right;\n",
       "    }\n",
       "\n",
       "    .dataframe thead th {\n",
       "        text-align: left;\n",
       "    }\n",
       "\n",
       "    .dataframe tbody tr th {\n",
       "        vertical-align: top;\n",
       "    }\n",
       "</style>\n",
       "<table border=\"1\" class=\"dataframe\">\n",
       "  <thead>\n",
       "    <tr style=\"text-align: right;\">\n",
       "      <th></th>\n",
       "      <th>userId</th>\n",
       "      <th>movieId</th>\n",
       "      <th>rating</th>\n",
       "    </tr>\n",
       "  </thead>\n",
       "  <tbody>\n",
       "    <tr>\n",
       "      <th>0</th>\n",
       "      <td>1</td>\n",
       "      <td>2</td>\n",
       "      <td>3.5</td>\n",
       "    </tr>\n",
       "    <tr>\n",
       "      <th>1</th>\n",
       "      <td>1</td>\n",
       "      <td>29</td>\n",
       "      <td>3.5</td>\n",
       "    </tr>\n",
       "    <tr>\n",
       "      <th>2</th>\n",
       "      <td>1</td>\n",
       "      <td>32</td>\n",
       "      <td>3.5</td>\n",
       "    </tr>\n",
       "    <tr>\n",
       "      <th>3</th>\n",
       "      <td>1</td>\n",
       "      <td>47</td>\n",
       "      <td>3.5</td>\n",
       "    </tr>\n",
       "    <tr>\n",
       "      <th>4</th>\n",
       "      <td>1</td>\n",
       "      <td>50</td>\n",
       "      <td>3.5</td>\n",
       "    </tr>\n",
       "  </tbody>\n",
       "</table>\n",
       "</div>"
      ],
      "text/plain": [
       "   userId  movieId  rating\n",
       "0       1        2     3.5\n",
       "1       1       29     3.5\n",
       "2       1       32     3.5\n",
       "3       1       47     3.5\n",
       "4       1       50     3.5"
      ]
     },
     "execution_count": 139,
     "metadata": {},
     "output_type": "execute_result"
    }
   ],
   "source": [
    "ratings.head()"
   ]
  },
  {
   "cell_type": "code",
   "execution_count": 140,
   "metadata": {
    "collapsed": false
   },
   "outputs": [
    {
     "data": {
      "text/plain": [
       "False"
      ]
     },
     "execution_count": 140,
     "metadata": {},
     "output_type": "execute_result"
    }
   ],
   "source": [
    "ratings[\"rating\"].isnull().any()"
   ]
  },
  {
   "cell_type": "markdown",
   "metadata": {},
   "source": [
    "All of the reviews are filled in! Yay!"
   ]
  },
  {
   "cell_type": "markdown",
   "metadata": {},
   "source": [
    "# Step 1: Find the most-rated movie (to maximize the data)\n"
   ]
  },
  {
   "cell_type": "code",
   "execution_count": 141,
   "metadata": {
    "collapsed": false
   },
   "outputs": [
    {
     "data": {
      "text/plain": [
       "296    67310\n",
       "356    66172\n",
       "318    63366\n",
       "593    63299\n",
       "480    59715\n",
       "Name: movieId, dtype: int64"
      ]
     },
     "execution_count": 141,
     "metadata": {},
     "output_type": "execute_result"
    }
   ],
   "source": [
    "ratingCounts=ratings[\"movieId\"].value_counts()\n",
    "ratingCounts.head()"
   ]
  },
  {
   "cell_type": "markdown",
   "metadata": {},
   "source": [
    "The most-rated movie is movieId 296, with 67,310 reviews."
   ]
  },
  {
   "cell_type": "code",
   "execution_count": 142,
   "metadata": {
    "collapsed": true
   },
   "outputs": [],
   "source": [
    "mId = 296"
   ]
  },
  {
   "cell_type": "code",
   "execution_count": 143,
   "metadata": {
    "collapsed": false
   },
   "outputs": [
    {
     "data": {
      "text/html": [
       "<div>\n",
       "<style>\n",
       "    .dataframe thead tr:only-child th {\n",
       "        text-align: right;\n",
       "    }\n",
       "\n",
       "    .dataframe thead th {\n",
       "        text-align: left;\n",
       "    }\n",
       "\n",
       "    .dataframe tbody tr th {\n",
       "        vertical-align: top;\n",
       "    }\n",
       "</style>\n",
       "<table border=\"1\" class=\"dataframe\">\n",
       "  <thead>\n",
       "    <tr style=\"text-align: right;\">\n",
       "      <th></th>\n",
       "      <th>movieId</th>\n",
       "      <th>title</th>\n",
       "      <th>genres</th>\n",
       "    </tr>\n",
       "  </thead>\n",
       "  <tbody>\n",
       "    <tr>\n",
       "      <th>293</th>\n",
       "      <td>296</td>\n",
       "      <td>Pulp Fiction (1994)</td>\n",
       "      <td>Comedy|Crime|Drama|Thriller</td>\n",
       "    </tr>\n",
       "  </tbody>\n",
       "</table>\n",
       "</div>"
      ],
      "text/plain": [
       "     movieId                title                       genres\n",
       "293      296  Pulp Fiction (1994)  Comedy|Crime|Drama|Thriller"
      ]
     },
     "execution_count": 143,
     "metadata": {},
     "output_type": "execute_result"
    }
   ],
   "source": [
    "movies[movies[\"movieId\"] == mId]"
   ]
  },
  {
   "cell_type": "markdown",
   "metadata": {},
   "source": [
    "MovieId 296 is Pulp Fiction. Makes sense!"
   ]
  },
  {
   "cell_type": "markdown",
   "metadata": {},
   "source": [
    "# Step 2: 2. Isolate the list of users who have rated this movie"
   ]
  },
  {
   "cell_type": "code",
   "execution_count": 144,
   "metadata": {
    "collapsed": false
   },
   "outputs": [
    {
     "data": {
      "text/plain": [
       "userId     67310\n",
       "movieId    67310\n",
       "rating     67310\n",
       "dtype: int64"
      ]
     },
     "execution_count": 144,
     "metadata": {},
     "output_type": "execute_result"
    }
   ],
   "source": [
    "ratingsOfInterest = ratings[ratings[\"movieId\"]==mId]\n",
    "ratingsOfInterest.count()"
   ]
  },
  {
   "cell_type": "code",
   "execution_count": 145,
   "metadata": {
    "collapsed": false
   },
   "outputs": [
    {
     "data": {
      "text/plain": [
       "48.60173438368726"
      ]
     },
     "execution_count": 145,
     "metadata": {},
     "output_type": "execute_result"
    }
   ],
   "source": [
    "len(ratingsOfInterest[\"userId\"].unique().tolist())/len(ratings[\"userId\"].unique().tolist())*100"
   ]
  },
  {
   "cell_type": "markdown",
   "metadata": {},
   "source": [
    "As expected, there are 67,310 reviews for this movie. 48% of all reviewers rated this movie!"
   ]
  },
  {
   "cell_type": "code",
   "execution_count": 146,
   "metadata": {
    "collapsed": false
   },
   "outputs": [
    {
     "data": {
      "text/html": [
       "<div>\n",
       "<style>\n",
       "    .dataframe thead tr:only-child th {\n",
       "        text-align: right;\n",
       "    }\n",
       "\n",
       "    .dataframe thead th {\n",
       "        text-align: left;\n",
       "    }\n",
       "\n",
       "    .dataframe tbody tr th {\n",
       "        vertical-align: top;\n",
       "    }\n",
       "</style>\n",
       "<table border=\"1\" class=\"dataframe\">\n",
       "  <thead>\n",
       "    <tr style=\"text-align: right;\">\n",
       "      <th></th>\n",
       "      <th>userId</th>\n",
       "      <th>movieId</th>\n",
       "      <th>rating</th>\n",
       "    </tr>\n",
       "  </thead>\n",
       "  <tbody>\n",
       "    <tr>\n",
       "      <th>11</th>\n",
       "      <td>1</td>\n",
       "      <td>296</td>\n",
       "      <td>4.0</td>\n",
       "    </tr>\n",
       "    <tr>\n",
       "      <th>845</th>\n",
       "      <td>8</td>\n",
       "      <td>296</td>\n",
       "      <td>5.0</td>\n",
       "    </tr>\n",
       "    <tr>\n",
       "      <th>983</th>\n",
       "      <td>11</td>\n",
       "      <td>296</td>\n",
       "      <td>3.5</td>\n",
       "    </tr>\n",
       "    <tr>\n",
       "      <th>1525</th>\n",
       "      <td>13</td>\n",
       "      <td>296</td>\n",
       "      <td>5.0</td>\n",
       "    </tr>\n",
       "    <tr>\n",
       "      <th>1821</th>\n",
       "      <td>15</td>\n",
       "      <td>296</td>\n",
       "      <td>3.0</td>\n",
       "    </tr>\n",
       "  </tbody>\n",
       "</table>\n",
       "</div>"
      ],
      "text/plain": [
       "      userId  movieId  rating\n",
       "11         1      296     4.0\n",
       "845        8      296     5.0\n",
       "983       11      296     3.5\n",
       "1525      13      296     5.0\n",
       "1821      15      296     3.0"
      ]
     },
     "execution_count": 146,
     "metadata": {},
     "output_type": "execute_result"
    }
   ],
   "source": [
    "ratingsOfInterest.head()"
   ]
  },
  {
   "cell_type": "code",
   "execution_count": 147,
   "metadata": {
    "collapsed": false
   },
   "outputs": [
    {
     "data": {
      "text/plain": [
       "67310"
      ]
     },
     "execution_count": 147,
     "metadata": {},
     "output_type": "execute_result"
    }
   ],
   "source": [
    "users = ratingsOfInterest[\"userId\"].unique().tolist()\n",
    "len(users)"
   ]
  },
  {
   "cell_type": "markdown",
   "metadata": {},
   "source": [
    "There are 67,310 users in my list, which means that no one did more than one review."
   ]
  },
  {
   "cell_type": "markdown",
   "metadata": {},
   "source": [
    "# Step 3: Split this user list into a training/test group"
   ]
  },
  {
   "cell_type": "markdown",
   "metadata": {},
   "source": [
    "I will break the 67,310 users into a 70-30 split"
   ]
  },
  {
   "cell_type": "code",
   "execution_count": 148,
   "metadata": {
    "collapsed": false
   },
   "outputs": [
    {
     "name": "stdout",
     "output_type": "stream",
     "text": [
      "training:  47117\n",
      "test:  20193\n"
     ]
    }
   ],
   "source": [
    "trainingProp = 0.7\n",
    "testProp = 1-trainingProp\n",
    "\n",
    "print(\"training: \", int(len(users)*trainingProp))\n",
    "print(\"test: \", int(len(users)*testProp))"
   ]
  },
  {
   "cell_type": "code",
   "execution_count": 149,
   "metadata": {
    "collapsed": true
   },
   "outputs": [],
   "source": [
    "import random\n",
    "random.shuffle(users)"
   ]
  },
  {
   "cell_type": "code",
   "execution_count": 150,
   "metadata": {
    "collapsed": false
   },
   "outputs": [
    {
     "data": {
      "text/plain": [
       "47117"
      ]
     },
     "execution_count": 150,
     "metadata": {},
     "output_type": "execute_result"
    }
   ],
   "source": [
    "trainingUsers = users[:int(len(users)*trainingProp)]\n",
    "len(trainingUsers)"
   ]
  },
  {
   "cell_type": "code",
   "execution_count": 151,
   "metadata": {
    "collapsed": false
   },
   "outputs": [
    {
     "data": {
      "text/plain": [
       "20193"
      ]
     },
     "execution_count": 151,
     "metadata": {},
     "output_type": "execute_result"
    }
   ],
   "source": [
    "testUsers = users[int(len(users)*trainingProp):]\n",
    "len(testUsers)"
   ]
  },
  {
   "cell_type": "markdown",
   "metadata": {},
   "source": [
    "# Step 4: Cluster users based on their ratings for other movies and find the average rating for the most-rated movie for each cluster"
   ]
  },
  {
   "cell_type": "code",
   "execution_count": 152,
   "metadata": {
    "collapsed": true
   },
   "outputs": [],
   "source": [
    "# I'm adding the movie info to the ratings now for ease of use in my clustering\n",
    "ratingsPlus = ratings.merge(movies, on=\"movieId\", how = \"inner\")"
   ]
  },
  {
   "cell_type": "code",
   "execution_count": 153,
   "metadata": {
    "collapsed": false
   },
   "outputs": [
    {
     "data": {
      "text/html": [
       "<div>\n",
       "<style>\n",
       "    .dataframe thead tr:only-child th {\n",
       "        text-align: right;\n",
       "    }\n",
       "\n",
       "    .dataframe thead th {\n",
       "        text-align: left;\n",
       "    }\n",
       "\n",
       "    .dataframe tbody tr th {\n",
       "        vertical-align: top;\n",
       "    }\n",
       "</style>\n",
       "<table border=\"1\" class=\"dataframe\">\n",
       "  <thead>\n",
       "    <tr style=\"text-align: right;\">\n",
       "      <th></th>\n",
       "      <th>userId</th>\n",
       "      <th>movieId</th>\n",
       "      <th>rating</th>\n",
       "      <th>title</th>\n",
       "      <th>genres</th>\n",
       "    </tr>\n",
       "  </thead>\n",
       "  <tbody>\n",
       "    <tr>\n",
       "      <th>0</th>\n",
       "      <td>1</td>\n",
       "      <td>2</td>\n",
       "      <td>3.5</td>\n",
       "      <td>Jumanji (1995)</td>\n",
       "      <td>Adventure|Children|Fantasy</td>\n",
       "    </tr>\n",
       "    <tr>\n",
       "      <th>1</th>\n",
       "      <td>5</td>\n",
       "      <td>2</td>\n",
       "      <td>3.0</td>\n",
       "      <td>Jumanji (1995)</td>\n",
       "      <td>Adventure|Children|Fantasy</td>\n",
       "    </tr>\n",
       "    <tr>\n",
       "      <th>2</th>\n",
       "      <td>13</td>\n",
       "      <td>2</td>\n",
       "      <td>3.0</td>\n",
       "      <td>Jumanji (1995)</td>\n",
       "      <td>Adventure|Children|Fantasy</td>\n",
       "    </tr>\n",
       "    <tr>\n",
       "      <th>3</th>\n",
       "      <td>29</td>\n",
       "      <td>2</td>\n",
       "      <td>3.0</td>\n",
       "      <td>Jumanji (1995)</td>\n",
       "      <td>Adventure|Children|Fantasy</td>\n",
       "    </tr>\n",
       "    <tr>\n",
       "      <th>4</th>\n",
       "      <td>34</td>\n",
       "      <td>2</td>\n",
       "      <td>3.0</td>\n",
       "      <td>Jumanji (1995)</td>\n",
       "      <td>Adventure|Children|Fantasy</td>\n",
       "    </tr>\n",
       "  </tbody>\n",
       "</table>\n",
       "</div>"
      ],
      "text/plain": [
       "   userId  movieId  rating           title                      genres\n",
       "0       1        2     3.5  Jumanji (1995)  Adventure|Children|Fantasy\n",
       "1       5        2     3.0  Jumanji (1995)  Adventure|Children|Fantasy\n",
       "2      13        2     3.0  Jumanji (1995)  Adventure|Children|Fantasy\n",
       "3      29        2     3.0  Jumanji (1995)  Adventure|Children|Fantasy\n",
       "4      34        2     3.0  Jumanji (1995)  Adventure|Children|Fantasy"
      ]
     },
     "execution_count": 153,
     "metadata": {},
     "output_type": "execute_result"
    }
   ],
   "source": [
    "ratingsPlus.head()"
   ]
  },
  {
   "cell_type": "code",
   "execution_count": 154,
   "metadata": {
    "collapsed": false
   },
   "outputs": [
    {
     "data": {
      "text/html": [
       "<div>\n",
       "<style>\n",
       "    .dataframe thead tr:only-child th {\n",
       "        text-align: right;\n",
       "    }\n",
       "\n",
       "    .dataframe thead th {\n",
       "        text-align: left;\n",
       "    }\n",
       "\n",
       "    .dataframe tbody tr th {\n",
       "        vertical-align: top;\n",
       "    }\n",
       "</style>\n",
       "<table border=\"1\" class=\"dataframe\">\n",
       "  <thead>\n",
       "    <tr style=\"text-align: right;\">\n",
       "      <th></th>\n",
       "      <th>userId</th>\n",
       "      <th>movieId</th>\n",
       "      <th>rating</th>\n",
       "      <th>title</th>\n",
       "      <th>genres</th>\n",
       "    </tr>\n",
       "  </thead>\n",
       "  <tbody>\n",
       "    <tr>\n",
       "      <th>0</th>\n",
       "      <td>1</td>\n",
       "      <td>2</td>\n",
       "      <td>3.5</td>\n",
       "      <td>Jumanji (1995)</td>\n",
       "      <td>Adventure|Children|Fantasy</td>\n",
       "    </tr>\n",
       "    <tr>\n",
       "      <th>3</th>\n",
       "      <td>29</td>\n",
       "      <td>2</td>\n",
       "      <td>3.0</td>\n",
       "      <td>Jumanji (1995)</td>\n",
       "      <td>Adventure|Children|Fantasy</td>\n",
       "    </tr>\n",
       "    <tr>\n",
       "      <th>4</th>\n",
       "      <td>34</td>\n",
       "      <td>2</td>\n",
       "      <td>3.0</td>\n",
       "      <td>Jumanji (1995)</td>\n",
       "      <td>Adventure|Children|Fantasy</td>\n",
       "    </tr>\n",
       "    <tr>\n",
       "      <th>5</th>\n",
       "      <td>54</td>\n",
       "      <td>2</td>\n",
       "      <td>3.0</td>\n",
       "      <td>Jumanji (1995)</td>\n",
       "      <td>Adventure|Children|Fantasy</td>\n",
       "    </tr>\n",
       "    <tr>\n",
       "      <th>7</th>\n",
       "      <td>91</td>\n",
       "      <td>2</td>\n",
       "      <td>3.5</td>\n",
       "      <td>Jumanji (1995)</td>\n",
       "      <td>Adventure|Children|Fantasy</td>\n",
       "    </tr>\n",
       "  </tbody>\n",
       "</table>\n",
       "</div>"
      ],
      "text/plain": [
       "   userId  movieId  rating           title                      genres\n",
       "0       1        2     3.5  Jumanji (1995)  Adventure|Children|Fantasy\n",
       "3      29        2     3.0  Jumanji (1995)  Adventure|Children|Fantasy\n",
       "4      34        2     3.0  Jumanji (1995)  Adventure|Children|Fantasy\n",
       "5      54        2     3.0  Jumanji (1995)  Adventure|Children|Fantasy\n",
       "7      91        2     3.5  Jumanji (1995)  Adventure|Children|Fantasy"
      ]
     },
     "execution_count": 154,
     "metadata": {},
     "output_type": "execute_result"
    }
   ],
   "source": [
    "TrainingFilter = ratingsPlus[\"userId\"].isin(trainingUsers)\n",
    "ratingsForTraining = ratingsPlus[TrainingFilter]\n",
    "ratingsForTraining.head()"
   ]
  },
  {
   "cell_type": "markdown",
   "metadata": {},
   "source": [
    "At this point, I have all of the ratings that correspond to users in my training set. I would like to make a dataframe that I can cluster them on.  I think that it will be too sparse if I make a big n x m dataframe where n is the number of users and m is the number of movies, where the (n,m) entry is user n's rating for movie m. So instead, I will make an n x l dataframe where l is the number of genres. The (n,l) entry is user n's average rating for movies containing genre l."
   ]
  },
  {
   "cell_type": "code",
   "execution_count": 155,
   "metadata": {
    "collapsed": false
   },
   "outputs": [
    {
     "data": {
      "text/plain": [
       "54406"
      ]
     },
     "execution_count": 155,
     "metadata": {},
     "output_type": "execute_result"
    }
   ],
   "source": [
    "#Here I am extracting all the genres for each movie and putting them all in a list\n",
    "genreLists=movies[\"genres\"].str.split(\"|\")\n",
    "genreList = []\n",
    "# make a list of all genres mentioned, with redundancy\n",
    "for movieGenres in genreLists:\n",
    "    genreList.extend(movieGenres)\n",
    "len(genreList)"
   ]
  },
  {
   "cell_type": "code",
   "execution_count": 156,
   "metadata": {
    "collapsed": false
   },
   "outputs": [
    {
     "name": "stdout",
     "output_type": "stream",
     "text": [
      "{'Sci-Fi', 'Thriller', 'IMAX', 'Mystery', '(no genres listed)', 'Crime', 'War', 'Drama', 'Adventure', 'Documentary', 'Animation', 'Comedy', 'Western', 'Horror', 'Children', 'Action', 'Musical', 'Fantasy', 'Film-Noir', 'Romance'}\n"
     ]
    },
    {
     "data": {
      "text/plain": [
       "20"
      ]
     },
     "execution_count": 156,
     "metadata": {},
     "output_type": "execute_result"
    }
   ],
   "source": [
    "# this gets the unique list of genres by making it a set.\n",
    "genreList = set(genreList)\n",
    "print(genreList)\n",
    "len(genreList)"
   ]
  },
  {
   "cell_type": "markdown",
   "metadata": {},
   "source": [
    "There are 20 genres."
   ]
  },
  {
   "cell_type": "code",
   "execution_count": 157,
   "metadata": {
    "collapsed": true,
    "scrolled": true
   },
   "outputs": [],
   "source": [
    "compute = False\n",
    "\n",
    "# This is a really computationally intensive loop, so I will only run it if I need to.\n",
    "# If compute is false, it reads it from the file instead of recomputing everything.\n",
    "if compute:\n",
    "    userDicts = []\n",
    "    userIds = []\n",
    "    for thisUser in trainingUsers:\n",
    "        thisUserDict = {}\n",
    "        thisUsersRatings = ratingsForTraining[ratingsForTraining[\"userId\"] == thisUser]\n",
    "        #print(thisUsersRatings[[\"userId\", \"rating\", \"title\"]])\n",
    "        for genre in genreList:\n",
    "            genreFilter = thisUsersRatings[\"genres\"].str.contains(genre)\n",
    "            avgRating = thisUsersRatings[genreFilter][\"rating\"].mean()\n",
    "            thisUserDict[genre]=avgRating\n",
    "        userDicts.append(thisUserDict)\n",
    "        userIds.append(thisUser)\n",
    "    df = pd.DataFrame(userDicts, index = userIds)\n",
    "    df.to_csv(\"TrainingDf.csv\")\n",
    "else:\n",
    "    df= pd.read_csv(\"TrainingDf.csv\", index_col = 0)"
   ]
  },
  {
   "cell_type": "code",
   "execution_count": 158,
   "metadata": {
    "collapsed": true
   },
   "outputs": [],
   "source": [
    "dfNoNan=df.replace(np.nan,0)"
   ]
  },
  {
   "cell_type": "code",
   "execution_count": 159,
   "metadata": {
    "collapsed": true
   },
   "outputs": [],
   "source": [
    "nClusters= 100\n",
    "kmeans = KMeans(n_clusters=nClusters).fit(dfNoNan)"
   ]
  },
  {
   "cell_type": "markdown",
   "metadata": {},
   "source": [
    "kmeans.labels_ is an array with an entry for each of my training users specifying which cluster they are in."
   ]
  },
  {
   "cell_type": "code",
   "execution_count": 160,
   "metadata": {
    "collapsed": false
   },
   "outputs": [
    {
     "data": {
      "image/png": "[encoded data removed]",
      "text/plain": [
       "<matplotlib.figure.Figure at 0x14409ec18>"
      ]
     },
     "metadata": {},
     "output_type": "display_data"
    }
   ],
   "source": [
    "plt.hist(kmeans.labels_, nClusters, [0,nClusters])\n",
    "plt.title(\"Users in each cluster\")\n",
    "plt.ylabel(\"Size of cluster\")\n",
    "plt.xlabel(\"Clusters\")\n",
    "plt.show()"
   ]
  },
  {
   "cell_type": "code",
   "execution_count": 161,
   "metadata": {
    "collapsed": false
   },
   "outputs": [
    {
     "data": {
      "image/png": "[encoded data removed]",
      "text/plain": [
       "<matplotlib.figure.Figure at 0x1440d49e8>"
      ]
     },
     "metadata": {},
     "output_type": "display_data"
    }
   ],
   "source": [
    "fig, ax = plt.subplots()\n",
    "ax.plot(kmeans.cluster_centers_.T)\n",
    "ax.set_xlabel('Genre')\n",
    "ax.set_ylabel('Average Rating')\n",
    "ax.set_xticks(range(len(dfNoNan.columns)))\n",
    "ax.set_xticklabels(dfNoNan.columns)\n",
    "ax.set_xticklabels(ax.xaxis.get_ticklabels(), rotation=90)\n",
    "ax.set_title(\"%d Clusters Based on Average Ratings for Various Genres\" %nClusters)\n",
    "\n",
    "plt.show()"
   ]
  },
  {
   "cell_type": "markdown",
   "metadata": {},
   "source": [
    "Some people tend to rate everything highly. Other clusters notably do not watch certain genres, such as Documentary or Film-Noir."
   ]
  },
  {
   "cell_type": "code",
   "execution_count": 162,
   "metadata": {
    "collapsed": false
   },
   "outputs": [
    {
     "data": {
      "text/html": [
       "<div>\n",
       "<style>\n",
       "    .dataframe thead tr:only-child th {\n",
       "        text-align: right;\n",
       "    }\n",
       "\n",
       "    .dataframe thead th {\n",
       "        text-align: left;\n",
       "    }\n",
       "\n",
       "    .dataframe tbody tr th {\n",
       "        vertical-align: top;\n",
       "    }\n",
       "</style>\n",
       "<table border=\"1\" class=\"dataframe\">\n",
       "  <thead>\n",
       "    <tr style=\"text-align: right;\">\n",
       "      <th></th>\n",
       "      <th>(no genres listed)</th>\n",
       "      <th>Action</th>\n",
       "      <th>Adventure</th>\n",
       "      <th>Animation</th>\n",
       "      <th>Children</th>\n",
       "      <th>Comedy</th>\n",
       "      <th>Crime</th>\n",
       "      <th>Documentary</th>\n",
       "      <th>Drama</th>\n",
       "      <th>Fantasy</th>\n",
       "      <th>Film-Noir</th>\n",
       "      <th>Horror</th>\n",
       "      <th>IMAX</th>\n",
       "      <th>Musical</th>\n",
       "      <th>Mystery</th>\n",
       "      <th>Romance</th>\n",
       "      <th>Sci-Fi</th>\n",
       "      <th>Thriller</th>\n",
       "      <th>War</th>\n",
       "      <th>Western</th>\n",
       "    </tr>\n",
       "  </thead>\n",
       "  <tbody>\n",
       "    <tr>\n",
       "      <th>count</th>\n",
       "      <td>47117.000000</td>\n",
       "      <td>47117.000000</td>\n",
       "      <td>47117.000000</td>\n",
       "      <td>47117.000000</td>\n",
       "      <td>47117.000000</td>\n",
       "      <td>47117.000000</td>\n",
       "      <td>47117.000000</td>\n",
       "      <td>47117.000000</td>\n",
       "      <td>47117.000000</td>\n",
       "      <td>47117.000000</td>\n",
       "      <td>47117.000000</td>\n",
       "      <td>47117.000000</td>\n",
       "      <td>47117.000000</td>\n",
       "      <td>47117.000000</td>\n",
       "      <td>47117.000000</td>\n",
       "      <td>47117.000000</td>\n",
       "      <td>47117.000000</td>\n",
       "      <td>47117.000000</td>\n",
       "      <td>47117.000000</td>\n",
       "      <td>47117.000000</td>\n",
       "    </tr>\n",
       "    <tr>\n",
       "      <th>mean</th>\n",
       "      <td>0.006967</td>\n",
       "      <td>3.485441</td>\n",
       "      <td>3.513823</td>\n",
       "      <td>3.290386</td>\n",
       "      <td>3.282595</td>\n",
       "      <td>3.524217</td>\n",
       "      <td>3.764121</td>\n",
       "      <td>1.922526</td>\n",
       "      <td>3.769502</td>\n",
       "      <td>3.463684</td>\n",
       "      <td>2.181960</td>\n",
       "      <td>3.327554</td>\n",
       "      <td>3.088658</td>\n",
       "      <td>3.138435</td>\n",
       "      <td>3.587765</td>\n",
       "      <td>3.593337</td>\n",
       "      <td>3.440077</td>\n",
       "      <td>3.624974</td>\n",
       "      <td>3.785911</td>\n",
       "      <td>3.059509</td>\n",
       "    </tr>\n",
       "    <tr>\n",
       "      <th>std</th>\n",
       "      <td>0.160290</td>\n",
       "      <td>0.521799</td>\n",
       "      <td>0.535808</td>\n",
       "      <td>1.238575</td>\n",
       "      <td>1.013032</td>\n",
       "      <td>0.464236</td>\n",
       "      <td>0.460390</td>\n",
       "      <td>1.980728</td>\n",
       "      <td>0.412215</td>\n",
       "      <td>0.806581</td>\n",
       "      <td>2.015531</td>\n",
       "      <td>1.035955</td>\n",
       "      <td>1.515073</td>\n",
       "      <td>1.339360</td>\n",
       "      <td>0.953686</td>\n",
       "      <td>0.533469</td>\n",
       "      <td>0.644260</td>\n",
       "      <td>0.453065</td>\n",
       "      <td>0.859817</td>\n",
       "      <td>1.453421</td>\n",
       "    </tr>\n",
       "    <tr>\n",
       "      <th>min</th>\n",
       "      <td>0.000000</td>\n",
       "      <td>0.000000</td>\n",
       "      <td>0.000000</td>\n",
       "      <td>0.000000</td>\n",
       "      <td>0.000000</td>\n",
       "      <td>0.613636</td>\n",
       "      <td>0.708333</td>\n",
       "      <td>0.000000</td>\n",
       "      <td>1.035581</td>\n",
       "      <td>0.000000</td>\n",
       "      <td>0.000000</td>\n",
       "      <td>0.000000</td>\n",
       "      <td>0.000000</td>\n",
       "      <td>0.000000</td>\n",
       "      <td>0.000000</td>\n",
       "      <td>0.000000</td>\n",
       "      <td>0.000000</td>\n",
       "      <td>0.562500</td>\n",
       "      <td>0.000000</td>\n",
       "      <td>0.000000</td>\n",
       "    </tr>\n",
       "    <tr>\n",
       "      <th>25%</th>\n",
       "      <td>0.000000</td>\n",
       "      <td>3.176471</td>\n",
       "      <td>3.208333</td>\n",
       "      <td>3.000000</td>\n",
       "      <td>3.000000</td>\n",
       "      <td>3.244048</td>\n",
       "      <td>3.483871</td>\n",
       "      <td>0.000000</td>\n",
       "      <td>3.518438</td>\n",
       "      <td>3.142857</td>\n",
       "      <td>0.000000</td>\n",
       "      <td>3.000000</td>\n",
       "      <td>2.909091</td>\n",
       "      <td>3.000000</td>\n",
       "      <td>3.354167</td>\n",
       "      <td>3.300000</td>\n",
       "      <td>3.109756</td>\n",
       "      <td>3.347619</td>\n",
       "      <td>3.500000</td>\n",
       "      <td>2.857143</td>\n",
       "    </tr>\n",
       "    <tr>\n",
       "      <th>50%</th>\n",
       "      <td>0.000000</td>\n",
       "      <td>3.500000</td>\n",
       "      <td>3.545455</td>\n",
       "      <td>3.600000</td>\n",
       "      <td>3.500000</td>\n",
       "      <td>3.544186</td>\n",
       "      <td>3.780488</td>\n",
       "      <td>1.000000</td>\n",
       "      <td>3.787234</td>\n",
       "      <td>3.551724</td>\n",
       "      <td>3.000000</td>\n",
       "      <td>3.500000</td>\n",
       "      <td>3.500000</td>\n",
       "      <td>3.500000</td>\n",
       "      <td>3.750000</td>\n",
       "      <td>3.625000</td>\n",
       "      <td>3.500000</td>\n",
       "      <td>3.637931</td>\n",
       "      <td>3.937500</td>\n",
       "      <td>3.500000</td>\n",
       "    </tr>\n",
       "    <tr>\n",
       "      <th>75%</th>\n",
       "      <td>0.000000</td>\n",
       "      <td>3.833333</td>\n",
       "      <td>3.862745</td>\n",
       "      <td>4.000000</td>\n",
       "      <td>3.916667</td>\n",
       "      <td>3.833333</td>\n",
       "      <td>4.076923</td>\n",
       "      <td>4.000000</td>\n",
       "      <td>4.048387</td>\n",
       "      <td>3.966667</td>\n",
       "      <td>4.000000</td>\n",
       "      <td>4.000000</td>\n",
       "      <td>4.000000</td>\n",
       "      <td>4.000000</td>\n",
       "      <td>4.064516</td>\n",
       "      <td>3.940000</td>\n",
       "      <td>3.836364</td>\n",
       "      <td>3.926230</td>\n",
       "      <td>4.250000</td>\n",
       "      <td>4.000000</td>\n",
       "    </tr>\n",
       "    <tr>\n",
       "      <th>max</th>\n",
       "      <td>5.000000</td>\n",
       "      <td>5.000000</td>\n",
       "      <td>5.000000</td>\n",
       "      <td>5.000000</td>\n",
       "      <td>5.000000</td>\n",
       "      <td>5.000000</td>\n",
       "      <td>5.000000</td>\n",
       "      <td>5.000000</td>\n",
       "      <td>5.000000</td>\n",
       "      <td>5.000000</td>\n",
       "      <td>5.000000</td>\n",
       "      <td>5.000000</td>\n",
       "      <td>5.000000</td>\n",
       "      <td>5.000000</td>\n",
       "      <td>5.000000</td>\n",
       "      <td>5.000000</td>\n",
       "      <td>5.000000</td>\n",
       "      <td>5.000000</td>\n",
       "      <td>5.000000</td>\n",
       "      <td>5.000000</td>\n",
       "    </tr>\n",
       "  </tbody>\n",
       "</table>\n",
       "</div>"
      ],
      "text/plain": [
       "       (no genres listed)        Action     Adventure     Animation  \\\n",
       "count        47117.000000  47117.000000  47117.000000  47117.000000   \n",
       "mean             0.006967      3.485441      3.513823      3.290386   \n",
       "std              0.160290      0.521799      0.535808      1.238575   \n",
       "min              0.000000      0.000000      0.000000      0.000000   \n",
       "25%              0.000000      3.176471      3.208333      3.000000   \n",
       "50%              0.000000      3.500000      3.545455      3.600000   \n",
       "75%              0.000000      3.833333      3.862745      4.000000   \n",
       "max              5.000000      5.000000      5.000000      5.000000   \n",
       "\n",
       "           Children        Comedy         Crime   Documentary         Drama  \\\n",
       "count  47117.000000  47117.000000  47117.000000  47117.000000  47117.000000   \n",
       "mean       3.282595      3.524217      3.764121      1.922526      3.769502   \n",
       "std        1.013032      0.464236      0.460390      1.980728      0.412215   \n",
       "min        0.000000      0.613636      0.708333      0.000000      1.035581   \n",
       "25%        3.000000      3.244048      3.483871      0.000000      3.518438   \n",
       "50%        3.500000      3.544186      3.780488      1.000000      3.787234   \n",
       "75%        3.916667      3.833333      4.076923      4.000000      4.048387   \n",
       "max        5.000000      5.000000      5.000000      5.000000      5.000000   \n",
       "\n",
       "            Fantasy     Film-Noir        Horror          IMAX       Musical  \\\n",
       "count  47117.000000  47117.000000  47117.000000  47117.000000  47117.000000   \n",
       "mean       3.463684      2.181960      3.327554      3.088658      3.138435   \n",
       "std        0.806581      2.015531      1.035955      1.515073      1.339360   \n",
       "min        0.000000      0.000000      0.000000      0.000000      0.000000   \n",
       "25%        3.142857      0.000000      3.000000      2.909091      3.000000   \n",
       "50%        3.551724      3.000000      3.500000      3.500000      3.500000   \n",
       "75%        3.966667      4.000000      4.000000      4.000000      4.000000   \n",
       "max        5.000000      5.000000      5.000000      5.000000      5.000000   \n",
       "\n",
       "            Mystery       Romance        Sci-Fi      Thriller           War  \\\n",
       "count  47117.000000  47117.000000  47117.000000  47117.000000  47117.000000   \n",
       "mean       3.587765      3.593337      3.440077      3.624974      3.785911   \n",
       "std        0.953686      0.533469      0.644260      0.453065      0.859817   \n",
       "min        0.000000      0.000000      0.000000      0.562500      0.000000   \n",
       "25%        3.354167      3.300000      3.109756      3.347619      3.500000   \n",
       "50%        3.750000      3.625000      3.500000      3.637931      3.937500   \n",
       "75%        4.064516      3.940000      3.836364      3.926230      4.250000   \n",
       "max        5.000000      5.000000      5.000000      5.000000      5.000000   \n",
       "\n",
       "            Western  \n",
       "count  47117.000000  \n",
       "mean       3.059509  \n",
       "std        1.453421  \n",
       "min        0.000000  \n",
       "25%        2.857143  \n",
       "50%        3.500000  \n",
       "75%        4.000000  \n",
       "max        5.000000  "
      ]
     },
     "execution_count": 162,
     "metadata": {},
     "output_type": "execute_result"
    }
   ],
   "source": [
    "dfNoNan.describe()"
   ]
  },
  {
   "cell_type": "code",
   "execution_count": 163,
   "metadata": {
    "collapsed": true
   },
   "outputs": [],
   "source": [
    "annotatedDf=dfNoNan\n",
    "annotatedDf[\"cluster\"]=kmeans.labels_"
   ]
  },
  {
   "cell_type": "code",
   "execution_count": 164,
   "metadata": {
    "collapsed": true
   },
   "outputs": [],
   "source": [
    "userCluster = annotatedDf[\"cluster\"]"
   ]
  },
  {
   "cell_type": "code",
   "execution_count": 165,
   "metadata": {
    "collapsed": true
   },
   "outputs": [],
   "source": [
    "pulpReviews=ratingsForTraining[[\"userId\", \"rating\"]][ratingsForTraining[\"movieId\"]==mId]\n",
    "indexedPulpReviews = pulpReviews.set_index(\"userId\")"
   ]
  },
  {
   "cell_type": "code",
   "execution_count": 166,
   "metadata": {
    "collapsed": true
   },
   "outputs": [],
   "source": [
    "indexedPulpReviews[\"cluster\"]=userCluster"
   ]
  },
  {
   "cell_type": "code",
   "execution_count": 167,
   "metadata": {
    "collapsed": false
   },
   "outputs": [
    {
     "data": {
      "text/html": [
       "<div>\n",
       "<style>\n",
       "    .dataframe thead tr:only-child th {\n",
       "        text-align: right;\n",
       "    }\n",
       "\n",
       "    .dataframe thead th {\n",
       "        text-align: left;\n",
       "    }\n",
       "\n",
       "    .dataframe tbody tr th {\n",
       "        vertical-align: top;\n",
       "    }\n",
       "</style>\n",
       "<table border=\"1\" class=\"dataframe\">\n",
       "  <thead>\n",
       "    <tr style=\"text-align: right;\">\n",
       "      <th></th>\n",
       "      <th>rating</th>\n",
       "    </tr>\n",
       "    <tr>\n",
       "      <th>cluster</th>\n",
       "      <th></th>\n",
       "    </tr>\n",
       "  </thead>\n",
       "  <tbody>\n",
       "    <tr>\n",
       "      <th>0.0</th>\n",
       "      <td>4.346774</td>\n",
       "    </tr>\n",
       "    <tr>\n",
       "      <th>1.0</th>\n",
       "      <td>4.267327</td>\n",
       "    </tr>\n",
       "    <tr>\n",
       "      <th>2.0</th>\n",
       "      <td>3.774834</td>\n",
       "    </tr>\n",
       "    <tr>\n",
       "      <th>3.0</th>\n",
       "      <td>3.854032</td>\n",
       "    </tr>\n",
       "    <tr>\n",
       "      <th>4.0</th>\n",
       "      <td>4.061798</td>\n",
       "    </tr>\n",
       "  </tbody>\n",
       "</table>\n",
       "</div>"
      ],
      "text/plain": [
       "           rating\n",
       "cluster          \n",
       "0.0      4.346774\n",
       "1.0      4.267327\n",
       "2.0      3.774834\n",
       "3.0      3.854032\n",
       "4.0      4.061798"
      ]
     },
     "execution_count": 167,
     "metadata": {},
     "output_type": "execute_result"
    }
   ],
   "source": [
    "clusterPulpRatings = indexedPulpReviews[[\"rating\", \"cluster\"]].groupby(\"cluster\").mean()\n",
    "clusterPulpRatings.head()"
   ]
  },
  {
   "cell_type": "code",
   "execution_count": 168,
   "metadata": {
    "collapsed": false
   },
   "outputs": [
    {
     "data": {
      "text/plain": [
       "4.1737058811044845"
      ]
     },
     "execution_count": 168,
     "metadata": {},
     "output_type": "execute_result"
    }
   ],
   "source": [
    "avgPulpRating = indexedPulpReviews[\"rating\"].mean()\n",
    "avgPulpRating"
   ]
  },
  {
   "cell_type": "code",
   "execution_count": 169,
   "metadata": {
    "collapsed": false
   },
   "outputs": [
    {
     "data": {
      "image/png": "[encoded data removed]",
      "text/plain": [
       "<matplotlib.figure.Figure at 0x11f33be10>"
      ]
     },
     "metadata": {},
     "output_type": "display_data"
    }
   ],
   "source": [
    "plt.hist(indexedPulpReviews[\"rating\"])\n",
    "plt.show()"
   ]
  },
  {
   "cell_type": "markdown",
   "metadata": {},
   "source": [
    "We see that there are some slight differences in the average rating of each cluster compared to the overall rating of this group for Pulp Fiction. Mostly people just like the movie though, and tend to give it 5 star reviews! It's possible that our clusters are not really different with respect to their views on Pulp Fiction, so let's just see what our test data does."
   ]
  },
  {
   "cell_type": "markdown",
   "metadata": {},
   "source": [
    "# Step 5: Determine where the test users fit in these clusters, predict that their rating for the movie will be the average of their cluster"
   ]
  },
  {
   "cell_type": "code",
   "execution_count": 170,
   "metadata": {
    "collapsed": false
   },
   "outputs": [
    {
     "data": {
      "text/html": [
       "<div>\n",
       "<style>\n",
       "    .dataframe thead tr:only-child th {\n",
       "        text-align: right;\n",
       "    }\n",
       "\n",
       "    .dataframe thead th {\n",
       "        text-align: left;\n",
       "    }\n",
       "\n",
       "    .dataframe tbody tr th {\n",
       "        vertical-align: top;\n",
       "    }\n",
       "</style>\n",
       "<table border=\"1\" class=\"dataframe\">\n",
       "  <thead>\n",
       "    <tr style=\"text-align: right;\">\n",
       "      <th></th>\n",
       "      <th>userId</th>\n",
       "      <th>movieId</th>\n",
       "      <th>rating</th>\n",
       "      <th>title</th>\n",
       "      <th>genres</th>\n",
       "    </tr>\n",
       "  </thead>\n",
       "  <tbody>\n",
       "    <tr>\n",
       "      <th>2</th>\n",
       "      <td>13</td>\n",
       "      <td>2</td>\n",
       "      <td>3.0</td>\n",
       "      <td>Jumanji (1995)</td>\n",
       "      <td>Adventure|Children|Fantasy</td>\n",
       "    </tr>\n",
       "    <tr>\n",
       "      <th>18</th>\n",
       "      <td>142</td>\n",
       "      <td>2</td>\n",
       "      <td>4.0</td>\n",
       "      <td>Jumanji (1995)</td>\n",
       "      <td>Adventure|Children|Fantasy</td>\n",
       "    </tr>\n",
       "    <tr>\n",
       "      <th>20</th>\n",
       "      <td>156</td>\n",
       "      <td>2</td>\n",
       "      <td>5.0</td>\n",
       "      <td>Jumanji (1995)</td>\n",
       "      <td>Adventure|Children|Fantasy</td>\n",
       "    </tr>\n",
       "    <tr>\n",
       "      <th>26</th>\n",
       "      <td>220</td>\n",
       "      <td>2</td>\n",
       "      <td>3.0</td>\n",
       "      <td>Jumanji (1995)</td>\n",
       "      <td>Adventure|Children|Fantasy</td>\n",
       "    </tr>\n",
       "    <tr>\n",
       "      <th>35</th>\n",
       "      <td>278</td>\n",
       "      <td>2</td>\n",
       "      <td>3.5</td>\n",
       "      <td>Jumanji (1995)</td>\n",
       "      <td>Adventure|Children|Fantasy</td>\n",
       "    </tr>\n",
       "  </tbody>\n",
       "</table>\n",
       "</div>"
      ],
      "text/plain": [
       "    userId  movieId  rating           title                      genres\n",
       "2       13        2     3.0  Jumanji (1995)  Adventure|Children|Fantasy\n",
       "18     142        2     4.0  Jumanji (1995)  Adventure|Children|Fantasy\n",
       "20     156        2     5.0  Jumanji (1995)  Adventure|Children|Fantasy\n",
       "26     220        2     3.0  Jumanji (1995)  Adventure|Children|Fantasy\n",
       "35     278        2     3.5  Jumanji (1995)  Adventure|Children|Fantasy"
      ]
     },
     "execution_count": 170,
     "metadata": {},
     "output_type": "execute_result"
    }
   ],
   "source": [
    "TestFilter = ratingsPlus[\"userId\"].isin(testUsers)\n",
    "ratingsForTest = ratingsPlus[TestFilter]\n",
    "ratingsForTest.head()"
   ]
  },
  {
   "cell_type": "code",
   "execution_count": 171,
   "metadata": {
    "collapsed": true
   },
   "outputs": [],
   "source": [
    "if compute:\n",
    "    userDicts = []\n",
    "    userIds = []\n",
    "    for thisUser in testUsers:\n",
    "        thisUserDict = {}\n",
    "        thisUsersRatings = ratingsForTest[ratingsForTest[\"userId\"] == thisUser]\n",
    "        for genre in genreList:\n",
    "            genreFilter = thisUsersRatings[\"genres\"].str.contains(genre)\n",
    "            avgRating = thisUsersRatings[genreFilter][\"rating\"].mean()\n",
    "            thisUserDict[genre]=avgRating\n",
    "        userDicts.append(thisUserDict)\n",
    "        userIds.append(thisUser)\n",
    "    df2 = pd.DataFrame(userDicts, index = userIds)\n",
    "    df2.to_csv(\"TestingDf.csv\")\n",
    "else:\n",
    "    df2= pd.read_csv(\"TestingDf.csv\", index_col = 0)"
   ]
  },
  {
   "cell_type": "code",
   "execution_count": 172,
   "metadata": {
    "collapsed": false
   },
   "outputs": [
    {
     "data": {
      "text/html": [
       "<div>\n",
       "<style>\n",
       "    .dataframe thead tr:only-child th {\n",
       "        text-align: right;\n",
       "    }\n",
       "\n",
       "    .dataframe thead th {\n",
       "        text-align: left;\n",
       "    }\n",
       "\n",
       "    .dataframe tbody tr th {\n",
       "        vertical-align: top;\n",
       "    }\n",
       "</style>\n",
       "<table border=\"1\" class=\"dataframe\">\n",
       "  <thead>\n",
       "    <tr style=\"text-align: right;\">\n",
       "      <th></th>\n",
       "      <th>(no genres listed)</th>\n",
       "      <th>Action</th>\n",
       "      <th>Adventure</th>\n",
       "      <th>Animation</th>\n",
       "      <th>Children</th>\n",
       "      <th>Comedy</th>\n",
       "      <th>Crime</th>\n",
       "      <th>Documentary</th>\n",
       "      <th>Drama</th>\n",
       "      <th>Fantasy</th>\n",
       "      <th>Film-Noir</th>\n",
       "      <th>Horror</th>\n",
       "      <th>IMAX</th>\n",
       "      <th>Musical</th>\n",
       "      <th>Mystery</th>\n",
       "      <th>Romance</th>\n",
       "      <th>Sci-Fi</th>\n",
       "      <th>Thriller</th>\n",
       "      <th>War</th>\n",
       "      <th>Western</th>\n",
       "    </tr>\n",
       "  </thead>\n",
       "  <tbody>\n",
       "    <tr>\n",
       "      <th>75429</th>\n",
       "      <td>0.0</td>\n",
       "      <td>3.542857</td>\n",
       "      <td>3.227273</td>\n",
       "      <td>4.200000</td>\n",
       "      <td>3.181818</td>\n",
       "      <td>3.750000</td>\n",
       "      <td>4.136364</td>\n",
       "      <td>5.000000</td>\n",
       "      <td>4.266667</td>\n",
       "      <td>3.333333</td>\n",
       "      <td>0.000000</td>\n",
       "      <td>4.333333</td>\n",
       "      <td>4.000000</td>\n",
       "      <td>4.000000</td>\n",
       "      <td>4.000000</td>\n",
       "      <td>3.884615</td>\n",
       "      <td>3.363636</td>\n",
       "      <td>4.029412</td>\n",
       "      <td>4.166667</td>\n",
       "      <td>3.000000</td>\n",
       "    </tr>\n",
       "    <tr>\n",
       "      <th>6624</th>\n",
       "      <td>0.0</td>\n",
       "      <td>2.913953</td>\n",
       "      <td>2.938596</td>\n",
       "      <td>3.600000</td>\n",
       "      <td>3.531250</td>\n",
       "      <td>3.020161</td>\n",
       "      <td>3.235849</td>\n",
       "      <td>2.000000</td>\n",
       "      <td>3.177326</td>\n",
       "      <td>3.074468</td>\n",
       "      <td>1.000000</td>\n",
       "      <td>2.656716</td>\n",
       "      <td>3.083333</td>\n",
       "      <td>3.000000</td>\n",
       "      <td>3.287037</td>\n",
       "      <td>3.074074</td>\n",
       "      <td>2.906452</td>\n",
       "      <td>2.936893</td>\n",
       "      <td>2.907407</td>\n",
       "      <td>3.352941</td>\n",
       "    </tr>\n",
       "    <tr>\n",
       "      <th>104782</th>\n",
       "      <td>0.0</td>\n",
       "      <td>3.562500</td>\n",
       "      <td>3.666667</td>\n",
       "      <td>4.333333</td>\n",
       "      <td>4.200000</td>\n",
       "      <td>3.416667</td>\n",
       "      <td>3.333333</td>\n",
       "      <td>0.000000</td>\n",
       "      <td>4.200000</td>\n",
       "      <td>4.333333</td>\n",
       "      <td>0.000000</td>\n",
       "      <td>3.000000</td>\n",
       "      <td>4.666667</td>\n",
       "      <td>4.333333</td>\n",
       "      <td>0.000000</td>\n",
       "      <td>4.571429</td>\n",
       "      <td>3.666667</td>\n",
       "      <td>3.812500</td>\n",
       "      <td>4.666667</td>\n",
       "      <td>4.000000</td>\n",
       "    </tr>\n",
       "    <tr>\n",
       "      <th>12073</th>\n",
       "      <td>0.0</td>\n",
       "      <td>3.500000</td>\n",
       "      <td>4.111111</td>\n",
       "      <td>4.250000</td>\n",
       "      <td>4.233333</td>\n",
       "      <td>4.120690</td>\n",
       "      <td>2.423077</td>\n",
       "      <td>0.000000</td>\n",
       "      <td>4.157407</td>\n",
       "      <td>4.000000</td>\n",
       "      <td>0.000000</td>\n",
       "      <td>0.888889</td>\n",
       "      <td>4.166667</td>\n",
       "      <td>4.277778</td>\n",
       "      <td>3.125000</td>\n",
       "      <td>4.351852</td>\n",
       "      <td>3.045455</td>\n",
       "      <td>2.307692</td>\n",
       "      <td>4.166667</td>\n",
       "      <td>4.375000</td>\n",
       "    </tr>\n",
       "    <tr>\n",
       "      <th>16075</th>\n",
       "      <td>0.0</td>\n",
       "      <td>3.369822</td>\n",
       "      <td>3.355556</td>\n",
       "      <td>3.636364</td>\n",
       "      <td>3.379310</td>\n",
       "      <td>3.456647</td>\n",
       "      <td>3.694690</td>\n",
       "      <td>3.583333</td>\n",
       "      <td>3.724919</td>\n",
       "      <td>3.418033</td>\n",
       "      <td>3.692308</td>\n",
       "      <td>3.596774</td>\n",
       "      <td>2.833333</td>\n",
       "      <td>3.636364</td>\n",
       "      <td>3.862903</td>\n",
       "      <td>3.500000</td>\n",
       "      <td>3.434783</td>\n",
       "      <td>3.517544</td>\n",
       "      <td>3.858974</td>\n",
       "      <td>3.725000</td>\n",
       "    </tr>\n",
       "  </tbody>\n",
       "</table>\n",
       "</div>"
      ],
      "text/plain": [
       "        (no genres listed)    Action  Adventure  Animation  Children  \\\n",
       "75429                  0.0  3.542857   3.227273   4.200000  3.181818   \n",
       "6624                   0.0  2.913953   2.938596   3.600000  3.531250   \n",
       "104782                 0.0  3.562500   3.666667   4.333333  4.200000   \n",
       "12073                  0.0  3.500000   4.111111   4.250000  4.233333   \n",
       "16075                  0.0  3.369822   3.355556   3.636364  3.379310   \n",
       "\n",
       "          Comedy     Crime  Documentary     Drama   Fantasy  Film-Noir  \\\n",
       "75429   3.750000  4.136364     5.000000  4.266667  3.333333   0.000000   \n",
       "6624    3.020161  3.235849     2.000000  3.177326  3.074468   1.000000   \n",
       "104782  3.416667  3.333333     0.000000  4.200000  4.333333   0.000000   \n",
       "12073   4.120690  2.423077     0.000000  4.157407  4.000000   0.000000   \n",
       "16075   3.456647  3.694690     3.583333  3.724919  3.418033   3.692308   \n",
       "\n",
       "          Horror      IMAX   Musical   Mystery   Romance    Sci-Fi  Thriller  \\\n",
       "75429   4.333333  4.000000  4.000000  4.000000  3.884615  3.363636  4.029412   \n",
       "6624    2.656716  3.083333  3.000000  3.287037  3.074074  2.906452  2.936893   \n",
       "104782  3.000000  4.666667  4.333333  0.000000  4.571429  3.666667  3.812500   \n",
       "12073   0.888889  4.166667  4.277778  3.125000  4.351852  3.045455  2.307692   \n",
       "16075   3.596774  2.833333  3.636364  3.862903  3.500000  3.434783  3.517544   \n",
       "\n",
       "             War   Western  \n",
       "75429   4.166667  3.000000  \n",
       "6624    2.907407  3.352941  \n",
       "104782  4.666667  4.000000  \n",
       "12073   4.166667  4.375000  \n",
       "16075   3.858974  3.725000  "
      ]
     },
     "execution_count": 172,
     "metadata": {},
     "output_type": "execute_result"
    }
   ],
   "source": [
    "df2NoNan=df2.replace(np.nan,0)\n",
    "df2NoNan.head()"
   ]
  },
  {
   "cell_type": "code",
   "execution_count": 173,
   "metadata": {
    "collapsed": true
   },
   "outputs": [],
   "source": [
    "predictions = kmeans.predict(df2NoNan)"
   ]
  },
  {
   "cell_type": "code",
   "execution_count": 174,
   "metadata": {
    "collapsed": true
   },
   "outputs": [],
   "source": [
    "testData = pd.DataFrame()\n",
    "testData = df2NoNan\n",
    "testData[\"cluster\"] = predictions#pd.Series(predictions)"
   ]
  },
  {
   "cell_type": "code",
   "execution_count": 175,
   "metadata": {
    "collapsed": false
   },
   "outputs": [
    {
     "data": {
      "text/html": [
       "<div>\n",
       "<style>\n",
       "    .dataframe thead tr:only-child th {\n",
       "        text-align: right;\n",
       "    }\n",
       "\n",
       "    .dataframe thead th {\n",
       "        text-align: left;\n",
       "    }\n",
       "\n",
       "    .dataframe tbody tr th {\n",
       "        vertical-align: top;\n",
       "    }\n",
       "</style>\n",
       "<table border=\"1\" class=\"dataframe\">\n",
       "  <thead>\n",
       "    <tr style=\"text-align: right;\">\n",
       "      <th></th>\n",
       "      <th>(no genres listed)</th>\n",
       "      <th>Action</th>\n",
       "      <th>Adventure</th>\n",
       "      <th>Animation</th>\n",
       "      <th>Children</th>\n",
       "      <th>Comedy</th>\n",
       "      <th>Crime</th>\n",
       "      <th>Documentary</th>\n",
       "      <th>Drama</th>\n",
       "      <th>Fantasy</th>\n",
       "      <th>...</th>\n",
       "      <th>Horror</th>\n",
       "      <th>IMAX</th>\n",
       "      <th>Musical</th>\n",
       "      <th>Mystery</th>\n",
       "      <th>Romance</th>\n",
       "      <th>Sci-Fi</th>\n",
       "      <th>Thriller</th>\n",
       "      <th>War</th>\n",
       "      <th>Western</th>\n",
       "      <th>cluster</th>\n",
       "    </tr>\n",
       "  </thead>\n",
       "  <tbody>\n",
       "    <tr>\n",
       "      <th>75429</th>\n",
       "      <td>0.0</td>\n",
       "      <td>3.542857</td>\n",
       "      <td>3.227273</td>\n",
       "      <td>4.200000</td>\n",
       "      <td>3.181818</td>\n",
       "      <td>3.750000</td>\n",
       "      <td>4.136364</td>\n",
       "      <td>5.000000</td>\n",
       "      <td>4.266667</td>\n",
       "      <td>3.333333</td>\n",
       "      <td>...</td>\n",
       "      <td>4.333333</td>\n",
       "      <td>4.000000</td>\n",
       "      <td>4.000000</td>\n",
       "      <td>4.000000</td>\n",
       "      <td>3.884615</td>\n",
       "      <td>3.363636</td>\n",
       "      <td>4.029412</td>\n",
       "      <td>4.166667</td>\n",
       "      <td>3.000000</td>\n",
       "      <td>63</td>\n",
       "    </tr>\n",
       "    <tr>\n",
       "      <th>6624</th>\n",
       "      <td>0.0</td>\n",
       "      <td>2.913953</td>\n",
       "      <td>2.938596</td>\n",
       "      <td>3.600000</td>\n",
       "      <td>3.531250</td>\n",
       "      <td>3.020161</td>\n",
       "      <td>3.235849</td>\n",
       "      <td>2.000000</td>\n",
       "      <td>3.177326</td>\n",
       "      <td>3.074468</td>\n",
       "      <td>...</td>\n",
       "      <td>2.656716</td>\n",
       "      <td>3.083333</td>\n",
       "      <td>3.000000</td>\n",
       "      <td>3.287037</td>\n",
       "      <td>3.074074</td>\n",
       "      <td>2.906452</td>\n",
       "      <td>2.936893</td>\n",
       "      <td>2.907407</td>\n",
       "      <td>3.352941</td>\n",
       "      <td>46</td>\n",
       "    </tr>\n",
       "    <tr>\n",
       "      <th>104782</th>\n",
       "      <td>0.0</td>\n",
       "      <td>3.562500</td>\n",
       "      <td>3.666667</td>\n",
       "      <td>4.333333</td>\n",
       "      <td>4.200000</td>\n",
       "      <td>3.416667</td>\n",
       "      <td>3.333333</td>\n",
       "      <td>0.000000</td>\n",
       "      <td>4.200000</td>\n",
       "      <td>4.333333</td>\n",
       "      <td>...</td>\n",
       "      <td>3.000000</td>\n",
       "      <td>4.666667</td>\n",
       "      <td>4.333333</td>\n",
       "      <td>0.000000</td>\n",
       "      <td>4.571429</td>\n",
       "      <td>3.666667</td>\n",
       "      <td>3.812500</td>\n",
       "      <td>4.666667</td>\n",
       "      <td>4.000000</td>\n",
       "      <td>18</td>\n",
       "    </tr>\n",
       "    <tr>\n",
       "      <th>12073</th>\n",
       "      <td>0.0</td>\n",
       "      <td>3.500000</td>\n",
       "      <td>4.111111</td>\n",
       "      <td>4.250000</td>\n",
       "      <td>4.233333</td>\n",
       "      <td>4.120690</td>\n",
       "      <td>2.423077</td>\n",
       "      <td>0.000000</td>\n",
       "      <td>4.157407</td>\n",
       "      <td>4.000000</td>\n",
       "      <td>...</td>\n",
       "      <td>0.888889</td>\n",
       "      <td>4.166667</td>\n",
       "      <td>4.277778</td>\n",
       "      <td>3.125000</td>\n",
       "      <td>4.351852</td>\n",
       "      <td>3.045455</td>\n",
       "      <td>2.307692</td>\n",
       "      <td>4.166667</td>\n",
       "      <td>4.375000</td>\n",
       "      <td>37</td>\n",
       "    </tr>\n",
       "    <tr>\n",
       "      <th>16075</th>\n",
       "      <td>0.0</td>\n",
       "      <td>3.369822</td>\n",
       "      <td>3.355556</td>\n",
       "      <td>3.636364</td>\n",
       "      <td>3.379310</td>\n",
       "      <td>3.456647</td>\n",
       "      <td>3.694690</td>\n",
       "      <td>3.583333</td>\n",
       "      <td>3.724919</td>\n",
       "      <td>3.418033</td>\n",
       "      <td>...</td>\n",
       "      <td>3.596774</td>\n",
       "      <td>2.833333</td>\n",
       "      <td>3.636364</td>\n",
       "      <td>3.862903</td>\n",
       "      <td>3.500000</td>\n",
       "      <td>3.434783</td>\n",
       "      <td>3.517544</td>\n",
       "      <td>3.858974</td>\n",
       "      <td>3.725000</td>\n",
       "      <td>50</td>\n",
       "    </tr>\n",
       "  </tbody>\n",
       "</table>\n",
       "<p>5 rows × 21 columns</p>\n",
       "</div>"
      ],
      "text/plain": [
       "        (no genres listed)    Action  Adventure  Animation  Children  \\\n",
       "75429                  0.0  3.542857   3.227273   4.200000  3.181818   \n",
       "6624                   0.0  2.913953   2.938596   3.600000  3.531250   \n",
       "104782                 0.0  3.562500   3.666667   4.333333  4.200000   \n",
       "12073                  0.0  3.500000   4.111111   4.250000  4.233333   \n",
       "16075                  0.0  3.369822   3.355556   3.636364  3.379310   \n",
       "\n",
       "          Comedy     Crime  Documentary     Drama   Fantasy   ...     \\\n",
       "75429   3.750000  4.136364     5.000000  4.266667  3.333333   ...      \n",
       "6624    3.020161  3.235849     2.000000  3.177326  3.074468   ...      \n",
       "104782  3.416667  3.333333     0.000000  4.200000  4.333333   ...      \n",
       "12073   4.120690  2.423077     0.000000  4.157407  4.000000   ...      \n",
       "16075   3.456647  3.694690     3.583333  3.724919  3.418033   ...      \n",
       "\n",
       "          Horror      IMAX   Musical   Mystery   Romance    Sci-Fi  Thriller  \\\n",
       "75429   4.333333  4.000000  4.000000  4.000000  3.884615  3.363636  4.029412   \n",
       "6624    2.656716  3.083333  3.000000  3.287037  3.074074  2.906452  2.936893   \n",
       "104782  3.000000  4.666667  4.333333  0.000000  4.571429  3.666667  3.812500   \n",
       "12073   0.888889  4.166667  4.277778  3.125000  4.351852  3.045455  2.307692   \n",
       "16075   3.596774  2.833333  3.636364  3.862903  3.500000  3.434783  3.517544   \n",
       "\n",
       "             War   Western  cluster  \n",
       "75429   4.166667  3.000000       63  \n",
       "6624    2.907407  3.352941       46  \n",
       "104782  4.666667  4.000000       18  \n",
       "12073   4.166667  4.375000       37  \n",
       "16075   3.858974  3.725000       50  \n",
       "\n",
       "[5 rows x 21 columns]"
      ]
     },
     "execution_count": 175,
     "metadata": {},
     "output_type": "execute_result"
    }
   ],
   "source": [
    "testData.head()"
   ]
  },
  {
   "cell_type": "code",
   "execution_count": 176,
   "metadata": {
    "collapsed": true
   },
   "outputs": [],
   "source": [
    "testAssignments = pd.DataFrame({\"cluster\": testData[\"cluster\"]})\n",
    "#testAssignments.head()"
   ]
  },
  {
   "cell_type": "code",
   "execution_count": 177,
   "metadata": {
    "collapsed": true
   },
   "outputs": [],
   "source": [
    "testAssignments.insert(1,\"ratingPredict\", testAssignments[\"cluster\"]*0)"
   ]
  },
  {
   "cell_type": "code",
   "execution_count": 178,
   "metadata": {
    "collapsed": false
   },
   "outputs": [
    {
     "name": "stderr",
     "output_type": "stream",
     "text": [
      "/anaconda/lib/python3.6/site-packages/pandas/core/indexing.py:179: SettingWithCopyWarning: \n",
      "A value is trying to be set on a copy of a slice from a DataFrame\n",
      "\n",
      "See the caveats in the documentation: http://pandas.pydata.org/pandas-docs/stable/indexing.html#indexing-view-versus-copy\n",
      "  self._setitem_with_indexer(indexer, value)\n"
     ]
    }
   ],
   "source": [
    "for i in range(len(testAssignments)):\n",
    "    testAssignments[\"ratingPredict\"].iloc[i]=clusterPulpRatings.loc[testAssignments[\"cluster\"].iloc[i]][\"rating\"]"
   ]
  },
  {
   "cell_type": "code",
   "execution_count": 179,
   "metadata": {
    "collapsed": false
   },
   "outputs": [
    {
     "data": {
      "text/html": [
       "<div>\n",
       "<style>\n",
       "    .dataframe thead tr:only-child th {\n",
       "        text-align: right;\n",
       "    }\n",
       "\n",
       "    .dataframe thead th {\n",
       "        text-align: left;\n",
       "    }\n",
       "\n",
       "    .dataframe tbody tr th {\n",
       "        vertical-align: top;\n",
       "    }\n",
       "</style>\n",
       "<table border=\"1\" class=\"dataframe\">\n",
       "  <thead>\n",
       "    <tr style=\"text-align: right;\">\n",
       "      <th></th>\n",
       "      <th>cluster</th>\n",
       "      <th>ratingPredict</th>\n",
       "      <th>userId</th>\n",
       "    </tr>\n",
       "  </thead>\n",
       "  <tbody>\n",
       "    <tr>\n",
       "      <th>75429</th>\n",
       "      <td>63</td>\n",
       "      <td>4.151144</td>\n",
       "      <td>75429</td>\n",
       "    </tr>\n",
       "    <tr>\n",
       "      <th>6624</th>\n",
       "      <td>46</td>\n",
       "      <td>3.463693</td>\n",
       "      <td>6624</td>\n",
       "    </tr>\n",
       "    <tr>\n",
       "      <th>104782</th>\n",
       "      <td>18</td>\n",
       "      <td>3.813312</td>\n",
       "      <td>104782</td>\n",
       "    </tr>\n",
       "    <tr>\n",
       "      <th>12073</th>\n",
       "      <td>37</td>\n",
       "      <td>3.549724</td>\n",
       "      <td>12073</td>\n",
       "    </tr>\n",
       "    <tr>\n",
       "      <th>16075</th>\n",
       "      <td>50</td>\n",
       "      <td>4.292353</td>\n",
       "      <td>16075</td>\n",
       "    </tr>\n",
       "  </tbody>\n",
       "</table>\n",
       "</div>"
      ],
      "text/plain": [
       "        cluster  ratingPredict  userId\n",
       "75429        63       4.151144   75429\n",
       "6624         46       3.463693    6624\n",
       "104782       18       3.813312  104782\n",
       "12073        37       3.549724   12073\n",
       "16075        50       4.292353   16075"
      ]
     },
     "execution_count": 179,
     "metadata": {},
     "output_type": "execute_result"
    }
   ],
   "source": [
    "testAssignments[\"userId\"]=testAssignments.index\n",
    "testAssignments.head()"
   ]
  },
  {
   "cell_type": "markdown",
   "metadata": {},
   "source": [
    "# Step 6: Compare these predicted ratings vs. their true rating to the default prediction vs. true rating (the default prediction is that all users would rate it as the total average rating for that movie)"
   ]
  },
  {
   "cell_type": "code",
   "execution_count": 180,
   "metadata": {
    "collapsed": true
   },
   "outputs": [],
   "source": [
    "TestPulpReviews=ratingsForTest[[\"userId\", \"rating\"]][ratingsForTest[\"movieId\"]==mId]"
   ]
  },
  {
   "cell_type": "code",
   "execution_count": 181,
   "metadata": {
    "collapsed": true
   },
   "outputs": [],
   "source": [
    "testPredictTrue = testAssignments.merge(TestPulpReviews, on=\"userId\")"
   ]
  },
  {
   "cell_type": "code",
   "execution_count": 182,
   "metadata": {
    "collapsed": false
   },
   "outputs": [
    {
     "data": {
      "text/html": [
       "<div>\n",
       "<style>\n",
       "    .dataframe thead tr:only-child th {\n",
       "        text-align: right;\n",
       "    }\n",
       "\n",
       "    .dataframe thead th {\n",
       "        text-align: left;\n",
       "    }\n",
       "\n",
       "    .dataframe tbody tr th {\n",
       "        vertical-align: top;\n",
       "    }\n",
       "</style>\n",
       "<table border=\"1\" class=\"dataframe\">\n",
       "  <thead>\n",
       "    <tr style=\"text-align: right;\">\n",
       "      <th></th>\n",
       "      <th>cluster</th>\n",
       "      <th>ratingPredict</th>\n",
       "      <th>userId</th>\n",
       "      <th>rating</th>\n",
       "      <th>defaultPredict</th>\n",
       "    </tr>\n",
       "  </thead>\n",
       "  <tbody>\n",
       "    <tr>\n",
       "      <th>0</th>\n",
       "      <td>46</td>\n",
       "      <td>3.463693</td>\n",
       "      <td>99243</td>\n",
       "      <td>3.0</td>\n",
       "      <td>4.173706</td>\n",
       "    </tr>\n",
       "    <tr>\n",
       "      <th>1</th>\n",
       "      <td>64</td>\n",
       "      <td>4.083333</td>\n",
       "      <td>109454</td>\n",
       "      <td>5.0</td>\n",
       "      <td>4.173706</td>\n",
       "    </tr>\n",
       "    <tr>\n",
       "      <th>2</th>\n",
       "      <td>28</td>\n",
       "      <td>4.053790</td>\n",
       "      <td>41160</td>\n",
       "      <td>4.5</td>\n",
       "      <td>4.173706</td>\n",
       "    </tr>\n",
       "    <tr>\n",
       "      <th>3</th>\n",
       "      <td>2</td>\n",
       "      <td>3.774834</td>\n",
       "      <td>42843</td>\n",
       "      <td>1.0</td>\n",
       "      <td>4.173706</td>\n",
       "    </tr>\n",
       "    <tr>\n",
       "      <th>4</th>\n",
       "      <td>70</td>\n",
       "      <td>4.705311</td>\n",
       "      <td>4156</td>\n",
       "      <td>5.0</td>\n",
       "      <td>4.173706</td>\n",
       "    </tr>\n",
       "  </tbody>\n",
       "</table>\n",
       "</div>"
      ],
      "text/plain": [
       "   cluster  ratingPredict  userId  rating  defaultPredict\n",
       "0       46       3.463693   99243     3.0        4.173706\n",
       "1       64       4.083333  109454     5.0        4.173706\n",
       "2       28       4.053790   41160     4.5        4.173706\n",
       "3        2       3.774834   42843     1.0        4.173706\n",
       "4       70       4.705311    4156     5.0        4.173706"
      ]
     },
     "execution_count": 182,
     "metadata": {},
     "output_type": "execute_result"
    }
   ],
   "source": [
    "testPredictTrue[\"defaultPredict\"]=avgPulpRating\n",
    "testPredictTrue.head()"
   ]
  },
  {
   "cell_type": "markdown",
   "metadata": {},
   "source": [
    "Calculate the root mean squared error:"
   ]
  },
  {
   "cell_type": "code",
   "execution_count": 183,
   "metadata": {
    "collapsed": false
   },
   "outputs": [
    {
     "name": "stdout",
     "output_type": "stream",
     "text": [
      "0.9520186432\n"
     ]
    }
   ],
   "source": [
    "predictScore = np.sqrt(((testPredictTrue[\"ratingPredict\"]-testPredictTrue[\"rating\"])**2).mean())\n",
    "print(predictScore)"
   ]
  },
  {
   "cell_type": "code",
   "execution_count": 184,
   "metadata": {
    "collapsed": false
   },
   "outputs": [
    {
     "name": "stdout",
     "output_type": "stream",
     "text": [
      "0.981877660684\n"
     ]
    }
   ],
   "source": [
    "defaultScore = np.sqrt(((testPredictTrue[\"rating\"]-testPredictTrue[\"defaultPredict\"])**2).mean())\n",
    "print(defaultScore)"
   ]
  },
  {
   "cell_type": "code",
   "execution_count": 185,
   "metadata": {
    "collapsed": false
   },
   "outputs": [
    {
     "name": "stdout",
     "output_type": "stream",
     "text": [
      "% improvement:  3.0410119997\n"
     ]
    }
   ],
   "source": [
    "print(\"% improvement: \",(defaultScore-predictScore)/defaultScore*100)"
   ]
  },
  {
   "cell_type": "markdown",
   "metadata": {},
   "source": [
    "There is a slight improvement in our ability to predict the user's rating for \"Pulp Fiction\" over the default prediction."
   ]
  },
  {
   "cell_type": "code",
   "execution_count": 186,
   "metadata": {
    "collapsed": true
   },
   "outputs": [],
   "source": [
    "clusterTestPulpRatings = testPredictTrue[[\"rating\", \"cluster\"]].groupby(\"cluster\").mean()"
   ]
  },
  {
   "cell_type": "code",
   "execution_count": 187,
   "metadata": {
    "collapsed": true
   },
   "outputs": [],
   "source": [
    "TestPulpReviews=ratingsForTest[[\"userId\", \"rating\"]][ratingsForTest[\"movieId\"]==mId]"
   ]
  },
  {
   "cell_type": "code",
   "execution_count": 188,
   "metadata": {
    "collapsed": false
   },
   "outputs": [
    {
     "name": "stdout",
     "output_type": "stream",
     "text": [
      "   training ratings  test ratings\n",
      "0          4.346774      4.326087\n",
      "1          4.267327      4.185039\n",
      "2          3.774834      3.774306\n",
      "3          3.854032      3.810924\n",
      "4          4.061798      3.544118\n",
      "                  training ratings  test ratings\n",
      "training ratings          1.000000      0.775352\n",
      "test ratings              0.775352      1.000000\n"
     ]
    },
    {
     "data": {
      "image/png": "[encoded data removed]",
      "text/plain": [
       "<matplotlib.figure.Figure at 0x11e80dda0>"
      ]
     },
     "metadata": {},
     "output_type": "display_data"
    }
   ],
   "source": [
    "df4 = pd.DataFrame({})\n",
    "df4[\"training ratings\"] = clusterPulpRatings\n",
    "df4[\"test ratings\"] = clusterTestPulpRatings\n",
    "print(df4.head())\n",
    "print(df4.corr())\n",
    "plt.scatter(clusterPulpRatings, clusterTestPulpRatings)\n",
    "plt.title(\"Correlation between training and test clusters\")\n",
    "plt.xlabel(\"Training Data avg. rating for Pulp Fiction\")\n",
    "plt.ylabel(\"Test Data avg. rating for Pulp Fiction\")\n",
    "plt.show()"
   ]
  },
  {
   "cell_type": "markdown",
   "metadata": {},
   "source": [
    "The average rating for Pulp Fiction in each group is well correlated between the training and the test data."
   ]
  },
  {
   "cell_type": "code",
   "execution_count": 190,
   "metadata": {
    "collapsed": false
   },
   "outputs": [
    {
     "data": {
      "text/html": [
       "<div>\n",
       "<style>\n",
       "    .dataframe thead tr:only-child th {\n",
       "        text-align: right;\n",
       "    }\n",
       "\n",
       "    .dataframe thead th {\n",
       "        text-align: left;\n",
       "    }\n",
       "\n",
       "    .dataframe tbody tr th {\n",
       "        vertical-align: top;\n",
       "    }\n",
       "</style>\n",
       "<table border=\"1\" class=\"dataframe\">\n",
       "  <thead>\n",
       "    <tr style=\"text-align: right;\">\n",
       "      <th></th>\n",
       "      <th>cluster</th>\n",
       "      <th>ratingPredict</th>\n",
       "      <th>userId</th>\n",
       "      <th>rating</th>\n",
       "      <th>defaultPredict</th>\n",
       "    </tr>\n",
       "  </thead>\n",
       "  <tbody>\n",
       "    <tr>\n",
       "      <th>count</th>\n",
       "      <td>6141.000000</td>\n",
       "      <td>6141.000000</td>\n",
       "      <td>6141.000000</td>\n",
       "      <td>6141.000000</td>\n",
       "      <td>6.141000e+03</td>\n",
       "    </tr>\n",
       "    <tr>\n",
       "      <th>mean</th>\n",
       "      <td>44.833903</td>\n",
       "      <td>4.169307</td>\n",
       "      <td>69246.877870</td>\n",
       "      <td>4.170901</td>\n",
       "      <td>4.173706e+00</td>\n",
       "    </tr>\n",
       "    <tr>\n",
       "      <th>std</th>\n",
       "      <td>29.809134</td>\n",
       "      <td>0.276416</td>\n",
       "      <td>39887.720508</td>\n",
       "      <td>0.981954</td>\n",
       "      <td>2.753577e-13</td>\n",
       "    </tr>\n",
       "    <tr>\n",
       "      <th>min</th>\n",
       "      <td>0.000000</td>\n",
       "      <td>3.220395</td>\n",
       "      <td>18.000000</td>\n",
       "      <td>0.500000</td>\n",
       "      <td>4.173706e+00</td>\n",
       "    </tr>\n",
       "    <tr>\n",
       "      <th>25%</th>\n",
       "      <td>21.000000</td>\n",
       "      <td>3.983755</td>\n",
       "      <td>35085.000000</td>\n",
       "      <td>4.000000</td>\n",
       "      <td>4.173706e+00</td>\n",
       "    </tr>\n",
       "    <tr>\n",
       "      <th>50%</th>\n",
       "      <td>43.000000</td>\n",
       "      <td>4.178105</td>\n",
       "      <td>68240.000000</td>\n",
       "      <td>4.500000</td>\n",
       "      <td>4.173706e+00</td>\n",
       "    </tr>\n",
       "    <tr>\n",
       "      <th>75%</th>\n",
       "      <td>70.000000</td>\n",
       "      <td>4.374656</td>\n",
       "      <td>103903.000000</td>\n",
       "      <td>5.000000</td>\n",
       "      <td>4.173706e+00</td>\n",
       "    </tr>\n",
       "    <tr>\n",
       "      <th>max</th>\n",
       "      <td>99.000000</td>\n",
       "      <td>4.705311</td>\n",
       "      <td>138473.000000</td>\n",
       "      <td>5.000000</td>\n",
       "      <td>4.173706e+00</td>\n",
       "    </tr>\n",
       "  </tbody>\n",
       "</table>\n",
       "</div>"
      ],
      "text/plain": [
       "           cluster  ratingPredict         userId       rating  defaultPredict\n",
       "count  6141.000000    6141.000000    6141.000000  6141.000000    6.141000e+03\n",
       "mean     44.833903       4.169307   69246.877870     4.170901    4.173706e+00\n",
       "std      29.809134       0.276416   39887.720508     0.981954    2.753577e-13\n",
       "min       0.000000       3.220395      18.000000     0.500000    4.173706e+00\n",
       "25%      21.000000       3.983755   35085.000000     4.000000    4.173706e+00\n",
       "50%      43.000000       4.178105   68240.000000     4.500000    4.173706e+00\n",
       "75%      70.000000       4.374656  103903.000000     5.000000    4.173706e+00\n",
       "max      99.000000       4.705311  138473.000000     5.000000    4.173706e+00"
      ]
     },
     "execution_count": 190,
     "metadata": {},
     "output_type": "execute_result"
    }
   ],
   "source": [
    "testPredictTrue.describe()"
   ]
  }
 ],
 "metadata": {
  "kernelspec": {
   "display_name": "Python [Root]",
   "language": "python",
   "name": "Python [Root]"
  },
  "language_info": {
   "codemirror_mode": {
    "name": "ipython",
    "version": 3
   },
   "file_extension": ".py",
   "mimetype": "text/x-python",
   "name": "python",
   "nbconvert_exporter": "python",
   "pygments_lexer": "ipython3",
   "version": "3.5.1"
  }
 },
 "nbformat": 4,
 "nbformat_minor": 2
}
